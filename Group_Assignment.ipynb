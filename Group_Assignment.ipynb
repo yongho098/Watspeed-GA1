{
 "cells": [
  {
   "cell_type": "markdown",
   "metadata": {
    "id": "vybu7ttehFCn"
   },
   "source": [
    "**Group Assignment**\n",
    "Group 16"
   ]
  },
  {
   "cell_type": "markdown",
   "metadata": {
    "id": "6_7U8xlQEECD"
   },
   "source": [
    "##Objectives"
   ]
  },
  {
   "cell_type": "markdown",
   "metadata": {
    "id": "Re1lMI5uE0Vi"
   },
   "source": [
    "## Data Preparation"
   ]
  },
  {
   "cell_type": "code",
   "execution_count": 1,
   "metadata": {
    "id": "kv601uv03xFz"
   },
   "outputs": [],
   "source": [
    "# imports\n",
    "import pandas as pd\n",
    "import matplotlib.pyplot as plt\n",
    "import seaborn as sns\n",
    "import numpy as np\n",
    "from sklearn.model_selection import train_test_split\n",
    "from sklearn.neighbors import KNeighborsClassifier\n",
    "from sklearn.metrics import accuracy_score\n",
    "from sklearn.compose import ColumnTransformer\n",
    "from sklearn.preprocessing import StandardScaler, OneHotEncoder\n",
    "from sklearn.linear_model import LogisticRegression"
   ]
  },
  {
   "cell_type": "code",
   "execution_count": 2,
   "metadata": {
    "id": "JUyrHDPQ599e"
   },
   "outputs": [],
   "source": [
    "# load data\n",
    "df1 = pd.read_csv('http://archive.ics.uci.edu/ml/machine-learning-databases/adult/adult.data', header = None)\n",
    "df1.columns = ['age', 'workclass', 'fnlwgt', 'education', 'education-num', 'marital-status', 'occupation', 'relationship', 'race', 'sex', 'capital-gain', 'capital-loss', 'hours-per-week', 'native-country', 'income']"
   ]
  },
  {
   "cell_type": "code",
   "execution_count": 3,
   "metadata": {
    "id": "qjpnYeU9zE_w"
   },
   "outputs": [],
   "source": [
    "# combining test and data together \n",
    "df2 = pd.read_csv('http://archive.ics.uci.edu/ml/machine-learning-databases/adult/adult.test', sep= ',', header= None, skiprows=1)\n",
    "df2.columns = ['age', 'workclass', 'fnlwgt', 'education', 'education-num', 'marital-status', 'occupation', 'relationship', 'race', 'sex', 'capital-gain', 'capital-loss', 'hours-per-week', 'native-country', 'income']\n",
    "df = pd.concat([df1, df2])"
   ]
  },
  {
   "cell_type": "code",
   "execution_count": 4,
   "metadata": {
    "id": "0leOaRpS-X9C"
   },
   "outputs": [],
   "source": [
    "# make sure values are inputted the same\n",
    "df['income'] = df['income'].replace(['<=50K.', '>50K.'], ['<=50K', '>50K'], regex=True)"
   ]
  },
  {
   "cell_type": "code",
   "execution_count": 5,
   "metadata": {
    "id": "CR3ohp0z-s54"
   },
   "outputs": [],
   "source": [
    "# replacing '?' values with NaN\n",
    "df = df.replace('[?]', np.nan, regex=True)"
   ]
  },
  {
   "cell_type": "code",
   "execution_count": 6,
   "metadata": {
    "colab": {
     "base_uri": "https://localhost:8080/"
    },
    "id": "569dCHjiu7Pw",
    "outputId": "fe4e2ec0-65fe-436d-8b32-a00042e70e5a"
   },
   "outputs": [
    {
     "name": "stdout",
     "output_type": "stream",
     "text": [
      "<class 'pandas.core.frame.DataFrame'>\n",
      "Int64Index: 48842 entries, 0 to 16280\n",
      "Data columns (total 15 columns):\n",
      " #   Column          Non-Null Count  Dtype \n",
      "---  ------          --------------  ----- \n",
      " 0   age             48842 non-null  int64 \n",
      " 1   workclass       46043 non-null  object\n",
      " 2   fnlwgt          48842 non-null  int64 \n",
      " 3   education       48842 non-null  object\n",
      " 4   education-num   48842 non-null  int64 \n",
      " 5   marital-status  48842 non-null  object\n",
      " 6   occupation      46033 non-null  object\n",
      " 7   relationship    48842 non-null  object\n",
      " 8   race            48842 non-null  object\n",
      " 9   sex             48842 non-null  object\n",
      " 10  capital-gain    48842 non-null  int64 \n",
      " 11  capital-loss    48842 non-null  int64 \n",
      " 12  hours-per-week  48842 non-null  int64 \n",
      " 13  native-country  47985 non-null  object\n",
      " 14  income          48842 non-null  object\n",
      "dtypes: int64(6), object(9)\n",
      "memory usage: 6.0+ MB\n"
     ]
    }
   ],
   "source": [
    "df.info()"
   ]
  },
  {
   "cell_type": "code",
   "execution_count": 7,
   "metadata": {
    "colab": {
     "base_uri": "https://localhost:8080/"
    },
    "id": "Je4EeSgE7FKb",
    "outputId": "f6adcf3c-20b2-45bf-f8b2-23f482ae0bdf"
   },
   "outputs": [
    {
     "data": {
      "text/plain": [
       "age                  0\n",
       "workclass         2799\n",
       "fnlwgt               0\n",
       "education            0\n",
       "education-num        0\n",
       "marital-status       0\n",
       "occupation        2809\n",
       "relationship         0\n",
       "race                 0\n",
       "sex                  0\n",
       "capital-gain         0\n",
       "capital-loss         0\n",
       "hours-per-week       0\n",
       "native-country     857\n",
       "income               0\n",
       "dtype: int64"
      ]
     },
     "execution_count": 7,
     "metadata": {},
     "output_type": "execute_result"
    }
   ],
   "source": [
    "\n",
    "# data information - NaN values\n",
    "df.isna().sum()"
   ]
  },
  {
   "cell_type": "code",
   "execution_count": 8,
   "metadata": {
    "colab": {
     "base_uri": "https://localhost:8080/"
    },
    "id": "DHVkViyOGryj",
    "outputId": "1ea1dd02-4bbb-4b71-c8a8-338e7fad0e50"
   },
   "outputs": [
    {
     "data": {
      "text/plain": [
       "age               0\n",
       "workclass         0\n",
       "fnlwgt            0\n",
       "education         0\n",
       "education-num     0\n",
       "marital-status    0\n",
       "occupation        0\n",
       "relationship      0\n",
       "race              0\n",
       "sex               0\n",
       "capital-gain      0\n",
       "capital-loss      0\n",
       "hours-per-week    0\n",
       "native-country    0\n",
       "income            0\n",
       "dtype: int64"
      ]
     },
     "execution_count": 8,
     "metadata": {},
     "output_type": "execute_result"
    }
   ],
   "source": [
    "# dropping all NaN values\n",
    "df = df.dropna()\n",
    "df = df.dropna(axis=0)\n",
    "df.isna().sum()"
   ]
  },
  {
   "cell_type": "code",
   "execution_count": 9,
   "metadata": {
    "colab": {
     "base_uri": "https://localhost:8080/"
    },
    "id": "1_NaJkfIG8q-",
    "outputId": "4047ef8e-db9a-417e-a387-e410be2b6e1d"
   },
   "outputs": [
    {
     "name": "stdout",
     "output_type": "stream",
     "text": [
      "<class 'pandas.core.frame.DataFrame'>\n",
      "Int64Index: 45222 entries, 0 to 16280\n",
      "Data columns (total 15 columns):\n",
      " #   Column          Non-Null Count  Dtype \n",
      "---  ------          --------------  ----- \n",
      " 0   age             45222 non-null  int64 \n",
      " 1   workclass       45222 non-null  object\n",
      " 2   fnlwgt          45222 non-null  int64 \n",
      " 3   education       45222 non-null  object\n",
      " 4   education-num   45222 non-null  int64 \n",
      " 5   marital-status  45222 non-null  object\n",
      " 6   occupation      45222 non-null  object\n",
      " 7   relationship    45222 non-null  object\n",
      " 8   race            45222 non-null  object\n",
      " 9   sex             45222 non-null  object\n",
      " 10  capital-gain    45222 non-null  int64 \n",
      " 11  capital-loss    45222 non-null  int64 \n",
      " 12  hours-per-week  45222 non-null  int64 \n",
      " 13  native-country  45222 non-null  object\n",
      " 14  income          45222 non-null  object\n",
      "dtypes: int64(6), object(9)\n",
      "memory usage: 5.5+ MB\n"
     ]
    }
   ],
   "source": [
    "# 45222 entries after removing NaN values\n",
    "df.info()"
   ]
  },
  {
   "cell_type": "code",
   "execution_count": 10,
   "metadata": {
    "colab": {
     "base_uri": "https://localhost:8080/",
     "height": 455
    },
    "id": "hX52ifGfcTkY",
    "outputId": "cc64e69e-f3c1-44f4-b13b-f9118c6ab6db"
   },
   "outputs": [
    {
     "data": {
      "text/html": [
       "<div>\n",
       "<style scoped>\n",
       "    .dataframe tbody tr th:only-of-type {\n",
       "        vertical-align: middle;\n",
       "    }\n",
       "\n",
       "    .dataframe tbody tr th {\n",
       "        vertical-align: top;\n",
       "    }\n",
       "\n",
       "    .dataframe thead th {\n",
       "        text-align: right;\n",
       "    }\n",
       "</style>\n",
       "<table border=\"1\" class=\"dataframe\">\n",
       "  <thead>\n",
       "    <tr style=\"text-align: right;\">\n",
       "      <th></th>\n",
       "      <th>education-num</th>\n",
       "      <th>hours-per-week</th>\n",
       "    </tr>\n",
       "    <tr>\n",
       "      <th>age</th>\n",
       "      <th></th>\n",
       "      <th></th>\n",
       "    </tr>\n",
       "  </thead>\n",
       "  <tbody>\n",
       "    <tr>\n",
       "      <th>17</th>\n",
       "      <td>6.699797</td>\n",
       "      <td>20.247465</td>\n",
       "    </tr>\n",
       "    <tr>\n",
       "      <th>18</th>\n",
       "      <td>8.141007</td>\n",
       "      <td>25.184173</td>\n",
       "    </tr>\n",
       "    <tr>\n",
       "      <th>19</th>\n",
       "      <td>9.028935</td>\n",
       "      <td>30.351852</td>\n",
       "    </tr>\n",
       "    <tr>\n",
       "      <th>20</th>\n",
       "      <td>9.308952</td>\n",
       "      <td>32.401747</td>\n",
       "    </tr>\n",
       "    <tr>\n",
       "      <th>21</th>\n",
       "      <td>9.385027</td>\n",
       "      <td>34.289840</td>\n",
       "    </tr>\n",
       "    <tr>\n",
       "      <th>...</th>\n",
       "      <td>...</td>\n",
       "      <td>...</td>\n",
       "    </tr>\n",
       "    <tr>\n",
       "      <th>86</th>\n",
       "      <td>14.000000</td>\n",
       "      <td>40.000000</td>\n",
       "    </tr>\n",
       "    <tr>\n",
       "      <th>87</th>\n",
       "      <td>9.000000</td>\n",
       "      <td>16.000000</td>\n",
       "    </tr>\n",
       "    <tr>\n",
       "      <th>88</th>\n",
       "      <td>10.200000</td>\n",
       "      <td>33.000000</td>\n",
       "    </tr>\n",
       "    <tr>\n",
       "      <th>89</th>\n",
       "      <td>13.000000</td>\n",
       "      <td>40.000000</td>\n",
       "    </tr>\n",
       "    <tr>\n",
       "      <th>90</th>\n",
       "      <td>10.434783</td>\n",
       "      <td>40.978261</td>\n",
       "    </tr>\n",
       "  </tbody>\n",
       "</table>\n",
       "<p>74 rows × 2 columns</p>\n",
       "</div>"
      ],
      "text/plain": [
       "     education-num  hours-per-week\n",
       "age                               \n",
       "17        6.699797       20.247465\n",
       "18        8.141007       25.184173\n",
       "19        9.028935       30.351852\n",
       "20        9.308952       32.401747\n",
       "21        9.385027       34.289840\n",
       "..             ...             ...\n",
       "86       14.000000       40.000000\n",
       "87        9.000000       16.000000\n",
       "88       10.200000       33.000000\n",
       "89       13.000000       40.000000\n",
       "90       10.434783       40.978261\n",
       "\n",
       "[74 rows x 2 columns]"
      ]
     },
     "execution_count": 10,
     "metadata": {},
     "output_type": "execute_result"
    }
   ],
   "source": [
    "\n",
    "# shows us the age, along with mean for education and how many hours they work per week.\n",
    "pd.pivot_table(df, index = 'age', values = ['education-num','hours-per-week'])"
   ]
  },
  {
   "cell_type": "markdown",
   "metadata": {
    "id": "APmuTxxmF_WH"
   },
   "source": []
  },
  {
   "cell_type": "code",
   "execution_count": 11,
   "metadata": {
    "id": "2UpqrC8e0Tc2"
   },
   "outputs": [],
   "source": [
    "# Drop columns fnlwgt \n",
    "# Consider dropping education or education-num (redundancy)\n",
    "# Relationship or marital-status based on similiarity \n",
    "df = df.drop(['fnlwgt'], axis=1)"
   ]
  },
  {
   "cell_type": "code",
   "execution_count": 12,
   "metadata": {
    "colab": {
     "base_uri": "https://localhost:8080/",
     "height": 404
    },
    "id": "DTdVk4uQdvfe",
    "outputId": "3e69e70f-90c6-40ef-9831-13b6f6de5449"
   },
   "outputs": [
    {
     "data": {
      "image/png": "[encoded data removed]",
      "text/plain": [
       "<Figure size 720x432 with 1 Axes>"
      ]
     },
     "metadata": {
      "needs_background": "light"
     },
     "output_type": "display_data"
    }
   ],
   "source": [
    "df_crosstab = pd.crosstab(df[\"education-num\"], df[\"income\"])\n",
    "ax = df_crosstab.plot(kind='barh', stacked=True, rot=0, figsize=(10, 6));\n",
    "ax.set(xlabel = \"Years of Education\", ylabel=\"Count\", title=\"Educational Years vs Income\")\n",
    "ax.xaxis.grid(color='gray', linestyle='dashed', alpha=0.2);"
   ]
  },
  {
   "cell_type": "markdown",
   "metadata": {
    "id": "h0dw6BuFd4Bt"
   },
   "source": [
    "Higher level of education correlated to higher ratio of individuals making >50k"
   ]
  },
  {
   "cell_type": "code",
   "execution_count": 13,
   "metadata": {
    "colab": {
     "base_uri": "https://localhost:8080/",
     "height": 331
    },
    "id": "aSHwVT79d-0g",
    "outputId": "1ef0dc9c-2353-408a-8ec0-36d5198b49b4"
   },
   "outputs": [
    {
     "data": {
      "text/html": [
       "<div>\n",
       "<style scoped>\n",
       "    .dataframe tbody tr th:only-of-type {\n",
       "        vertical-align: middle;\n",
       "    }\n",
       "\n",
       "    .dataframe tbody tr th {\n",
       "        vertical-align: top;\n",
       "    }\n",
       "\n",
       "    .dataframe thead tr th {\n",
       "        text-align: left;\n",
       "    }\n",
       "\n",
       "    .dataframe thead tr:last-of-type th {\n",
       "        text-align: right;\n",
       "    }\n",
       "</style>\n",
       "<table border=\"1\" class=\"dataframe\">\n",
       "  <thead>\n",
       "    <tr>\n",
       "      <th></th>\n",
       "      <th>education-num</th>\n",
       "      <th>hours-per-week</th>\n",
       "    </tr>\n",
       "    <tr>\n",
       "      <th></th>\n",
       "      <th>mean</th>\n",
       "      <th>mean</th>\n",
       "    </tr>\n",
       "    <tr>\n",
       "      <th>age_bins</th>\n",
       "      <th></th>\n",
       "      <th></th>\n",
       "    </tr>\n",
       "  </thead>\n",
       "  <tbody>\n",
       "    <tr>\n",
       "      <th>(10, 20]</th>\n",
       "      <td>8.520553</td>\n",
       "      <td>28.096024</td>\n",
       "    </tr>\n",
       "    <tr>\n",
       "      <th>(20, 30]</th>\n",
       "      <td>10.119288</td>\n",
       "      <td>39.727418</td>\n",
       "    </tr>\n",
       "    <tr>\n",
       "      <th>(30, 40]</th>\n",
       "      <td>10.344317</td>\n",
       "      <td>43.485803</td>\n",
       "    </tr>\n",
       "    <tr>\n",
       "      <th>(40, 50]</th>\n",
       "      <td>10.589489</td>\n",
       "      <td>43.658158</td>\n",
       "    </tr>\n",
       "    <tr>\n",
       "      <th>(50, 60]</th>\n",
       "      <td>9.949254</td>\n",
       "      <td>42.749186</td>\n",
       "    </tr>\n",
       "    <tr>\n",
       "      <th>(60, 70]</th>\n",
       "      <td>9.602622</td>\n",
       "      <td>36.563291</td>\n",
       "    </tr>\n",
       "    <tr>\n",
       "      <th>(70, 80]</th>\n",
       "      <td>9.084291</td>\n",
       "      <td>28.275862</td>\n",
       "    </tr>\n",
       "  </tbody>\n",
       "</table>\n",
       "</div>"
      ],
      "text/plain": [
       "         education-num hours-per-week\n",
       "                  mean           mean\n",
       "age_bins                             \n",
       "(10, 20]      8.520553      28.096024\n",
       "(20, 30]     10.119288      39.727418\n",
       "(30, 40]     10.344317      43.485803\n",
       "(40, 50]     10.589489      43.658158\n",
       "(50, 60]      9.949254      42.749186\n",
       "(60, 70]      9.602622      36.563291\n",
       "(70, 80]      9.084291      28.275862"
      ]
     },
     "execution_count": 13,
     "metadata": {},
     "output_type": "execute_result"
    }
   ],
   "source": [
    "# making age bins to make the data easier to read\n",
    "df['age_bins'] = pd.cut(x=df['age'], bins=[10, 20, 30, 40, 50, 60, 70, 80])\n",
    "df.groupby('age_bins').agg({'education-num': ['mean'],\n",
    "                            'hours-per-week': ['mean']})"
   ]
  },
  {
   "cell_type": "code",
   "execution_count": 14,
   "metadata": {
    "colab": {
     "base_uri": "https://localhost:8080/",
     "height": 404
    },
    "id": "2GG4asS8dcmd",
    "outputId": "cd0dc722-9f6f-475b-8876-80ac9d5c38af"
   },
   "outputs": [
    {
     "data": {
      "image/png": "[encoded data removed]",
      "text/plain": [
       "<Figure size 720x432 with 1 Axes>"
      ]
     },
     "metadata": {
      "needs_background": "light"
     },
     "output_type": "display_data"
    }
   ],
   "source": [
    "df_crosstabage = pd.crosstab(df[\"age_bins\"], df[\"income\"])\n",
    "ax = df_crosstabage.plot(kind='bar', stacked=True, rot=0, figsize=(10, 6));\n",
    "ax.set(xlabel = \"Age Group\", ylabel=\"Count\", title=\"Age Group vs Income\")\n",
    "ax.yaxis.grid(color='gray', linestyle='dashed', alpha=0.2);"
   ]
  },
  {
   "cell_type": "markdown",
   "metadata": {
    "id": "LyxCBGnodkux"
   },
   "source": [
    "Graph visually depicts the disparity in income group between the age bins created with likelihood of making >50 k highest between 20-70."
   ]
  },
  {
   "cell_type": "code",
   "execution_count": 15,
   "metadata": {
    "colab": {
     "base_uri": "https://localhost:8080/"
    },
    "id": "sdgHHXFbc59c",
    "outputId": "d83c1dec-6117-43a2-b1bf-6d0480a3067a"
   },
   "outputs": [
    {
     "name": "stdout",
     "output_type": "stream",
     "text": [
      "sex      Female   Male\n",
      "income                \n",
      " <=50K    13026  20988\n",
      " >50K      1669   9539\n"
     ]
    }
   ],
   "source": [
    "# the breakdown between female and males\n",
    "print(pd.pivot_table(df, index = 'income', columns = 'sex', values = 'occupation' ,aggfunc ='count'))"
   ]
  },
  {
   "cell_type": "code",
   "execution_count": 16,
   "metadata": {
    "colab": {
     "base_uri": "https://localhost:8080/",
     "height": 143
    },
    "id": "NlwC7WRYdVCv",
    "outputId": "80956b02-53d3-43e8-8a87-0d543f2a5dcb"
   },
   "outputs": [
    {
     "data": {
      "text/html": [
       "<div>\n",
       "<style scoped>\n",
       "    .dataframe tbody tr th:only-of-type {\n",
       "        vertical-align: middle;\n",
       "    }\n",
       "\n",
       "    .dataframe tbody tr th {\n",
       "        vertical-align: top;\n",
       "    }\n",
       "\n",
       "    .dataframe thead th {\n",
       "        text-align: right;\n",
       "    }\n",
       "</style>\n",
       "<table border=\"1\" class=\"dataframe\">\n",
       "  <thead>\n",
       "    <tr style=\"text-align: right;\">\n",
       "      <th></th>\n",
       "      <th>age</th>\n",
       "      <th>education-num</th>\n",
       "      <th>capital-gain</th>\n",
       "      <th>capital-loss</th>\n",
       "      <th>hours-per-week</th>\n",
       "    </tr>\n",
       "    <tr>\n",
       "      <th>income</th>\n",
       "      <th></th>\n",
       "      <th></th>\n",
       "      <th></th>\n",
       "      <th></th>\n",
       "      <th></th>\n",
       "    </tr>\n",
       "  </thead>\n",
       "  <tbody>\n",
       "    <tr>\n",
       "      <th>&lt;=50K</th>\n",
       "      <td>36.749427</td>\n",
       "      <td>9.630770</td>\n",
       "      <td>149.023402</td>\n",
       "      <td>54.032428</td>\n",
       "      <td>39.372023</td>\n",
       "    </tr>\n",
       "    <tr>\n",
       "      <th>&gt;50K</th>\n",
       "      <td>44.006067</td>\n",
       "      <td>11.598501</td>\n",
       "      <td>3991.791667</td>\n",
       "      <td>193.487063</td>\n",
       "      <td>45.690489</td>\n",
       "    </tr>\n",
       "  </tbody>\n",
       "</table>\n",
       "</div>"
      ],
      "text/plain": [
       "              age  education-num  capital-gain  capital-loss  hours-per-week\n",
       "income                                                                      \n",
       " <=50K  36.749427       9.630770    149.023402     54.032428       39.372023\n",
       " >50K   44.006067      11.598501   3991.791667    193.487063       45.690489"
      ]
     },
     "execution_count": 16,
     "metadata": {},
     "output_type": "execute_result"
    }
   ],
   "source": [
    "df.groupby('income')\n",
    "df_grouped_Pclass = df.groupby('income')\n",
    "df_grouped_Pclass.mean()"
   ]
  },
  {
   "cell_type": "markdown",
   "metadata": {
    "id": "qL-Y_SsQdbQQ"
   },
   "source": [
    "The average age for people earning over 50K is higher than people earning less than 50K. We can also see that people earning over 50K went to school for longer and work more hours per week."
   ]
  },
  {
   "cell_type": "code",
   "execution_count": 17,
   "metadata": {
    "colab": {
     "base_uri": "https://localhost:8080/"
    },
    "id": "c_jZ_F2diOYo",
    "outputId": "a7d5dc09-817d-4435-a80f-8ad8ba3827a9"
   },
   "outputs": [
    {
     "data": {
      "text/plain": [
       "array([' White', ' Black', ' Asian-Pac-Islander', ' Amer-Indian-Eskimo',\n",
       "       ' Other'], dtype=object)"
      ]
     },
     "execution_count": 17,
     "metadata": {},
     "output_type": "execute_result"
    }
   ],
   "source": [
    "# unique values for race\n",
    "df['race'].unique()"
   ]
  },
  {
   "cell_type": "code",
   "execution_count": 18,
   "metadata": {
    "colab": {
     "base_uri": "https://localhost:8080/",
     "height": 269
    },
    "id": "bElY6RgpiVt5",
    "outputId": "71cf75b1-1d30-4153-e8c8-8bfdac4c69e3"
   },
   "outputs": [
    {
     "data": {
      "text/html": [
       "<div>\n",
       "<style scoped>\n",
       "    .dataframe tbody tr th:only-of-type {\n",
       "        vertical-align: middle;\n",
       "    }\n",
       "\n",
       "    .dataframe tbody tr th {\n",
       "        vertical-align: top;\n",
       "    }\n",
       "\n",
       "    .dataframe thead tr th {\n",
       "        text-align: left;\n",
       "    }\n",
       "\n",
       "    .dataframe thead tr:last-of-type th {\n",
       "        text-align: right;\n",
       "    }\n",
       "</style>\n",
       "<table border=\"1\" class=\"dataframe\">\n",
       "  <thead>\n",
       "    <tr>\n",
       "      <th></th>\n",
       "      <th>race</th>\n",
       "      <th>age</th>\n",
       "      <th>education-num</th>\n",
       "      <th>hours-per-week</th>\n",
       "    </tr>\n",
       "    <tr>\n",
       "      <th></th>\n",
       "      <th>count</th>\n",
       "      <th>mean</th>\n",
       "      <th>mean</th>\n",
       "      <th>mean</th>\n",
       "    </tr>\n",
       "    <tr>\n",
       "      <th>race</th>\n",
       "      <th></th>\n",
       "      <th></th>\n",
       "      <th></th>\n",
       "      <th></th>\n",
       "    </tr>\n",
       "  </thead>\n",
       "  <tbody>\n",
       "    <tr>\n",
       "      <th>Amer-Indian-Eskimo</th>\n",
       "      <td>435</td>\n",
       "      <td>36.370115</td>\n",
       "      <td>9.420690</td>\n",
       "      <td>40.694253</td>\n",
       "    </tr>\n",
       "    <tr>\n",
       "      <th>Asian-Pac-Islander</th>\n",
       "      <td>1303</td>\n",
       "      <td>38.110514</td>\n",
       "      <td>11.045280</td>\n",
       "      <td>40.367613</td>\n",
       "    </tr>\n",
       "    <tr>\n",
       "      <th>Black</th>\n",
       "      <td>4228</td>\n",
       "      <td>37.995979</td>\n",
       "      <td>9.531220</td>\n",
       "      <td>38.910833</td>\n",
       "    </tr>\n",
       "    <tr>\n",
       "      <th>Other</th>\n",
       "      <td>353</td>\n",
       "      <td>33.838527</td>\n",
       "      <td>8.745042</td>\n",
       "      <td>39.736544</td>\n",
       "    </tr>\n",
       "    <tr>\n",
       "      <th>White</th>\n",
       "      <td>38903</td>\n",
       "      <td>38.689664</td>\n",
       "      <td>10.171503</td>\n",
       "      <td>41.191065</td>\n",
       "    </tr>\n",
       "  </tbody>\n",
       "</table>\n",
       "</div>"
      ],
      "text/plain": [
       "                      race        age education-num hours-per-week\n",
       "                     count       mean          mean           mean\n",
       "race                                                              \n",
       " Amer-Indian-Eskimo    435  36.370115      9.420690      40.694253\n",
       " Asian-Pac-Islander   1303  38.110514     11.045280      40.367613\n",
       " Black                4228  37.995979      9.531220      38.910833\n",
       " Other                 353  33.838527      8.745042      39.736544\n",
       " White               38903  38.689664     10.171503      41.191065"
      ]
     },
     "execution_count": 18,
     "metadata": {},
     "output_type": "execute_result"
    }
   ],
   "source": [
    "# breakdown by race\n",
    "df.groupby('race').agg({'race': ['count'],\n",
    "                        'age': ['mean'],\n",
    "                        'education-num': ['mean'],\n",
    "                        'hours-per-week': ['mean']})"
   ]
  },
  {
   "cell_type": "markdown",
   "metadata": {
    "id": "1EFSdqB20GW_"
   },
   "source": [
    "There is a large disparity in sample sizes between race with \"whites\" being the largest. Keep this mind when completing modeling"
   ]
  },
  {
   "cell_type": "code",
   "execution_count": 19,
   "metadata": {
    "colab": {
     "base_uri": "https://localhost:8080/",
     "height": 354
    },
    "id": "tD7iwcXbs1H1",
    "outputId": "2ffba38d-8224-4ebc-82b7-cea3bc5eed2d"
   },
   "outputs": [
    {
     "data": {
      "text/html": [
       "<div>\n",
       "<style scoped>\n",
       "    .dataframe tbody tr th:only-of-type {\n",
       "        vertical-align: middle;\n",
       "    }\n",
       "\n",
       "    .dataframe tbody tr th {\n",
       "        vertical-align: top;\n",
       "    }\n",
       "\n",
       "    .dataframe thead th {\n",
       "        text-align: right;\n",
       "    }\n",
       "</style>\n",
       "<table border=\"1\" class=\"dataframe\">\n",
       "  <thead>\n",
       "    <tr style=\"text-align: right;\">\n",
       "      <th></th>\n",
       "      <th>age</th>\n",
       "      <th>workclass</th>\n",
       "      <th>education</th>\n",
       "      <th>education-num</th>\n",
       "      <th>marital-status</th>\n",
       "      <th>occupation</th>\n",
       "      <th>relationship</th>\n",
       "      <th>race</th>\n",
       "      <th>sex</th>\n",
       "      <th>capital-gain</th>\n",
       "      <th>capital-loss</th>\n",
       "      <th>hours-per-week</th>\n",
       "      <th>native-country</th>\n",
       "      <th>income</th>\n",
       "      <th>age_bins</th>\n",
       "    </tr>\n",
       "  </thead>\n",
       "  <tbody>\n",
       "    <tr>\n",
       "      <th>0</th>\n",
       "      <td>39</td>\n",
       "      <td>State-gov</td>\n",
       "      <td>Bachelors</td>\n",
       "      <td>13</td>\n",
       "      <td>Never-married</td>\n",
       "      <td>Adm-clerical</td>\n",
       "      <td>Not-in-family</td>\n",
       "      <td>White</td>\n",
       "      <td>Male</td>\n",
       "      <td>2174</td>\n",
       "      <td>0</td>\n",
       "      <td>40</td>\n",
       "      <td>United-States</td>\n",
       "      <td>&lt;=50K</td>\n",
       "      <td>(30, 40]</td>\n",
       "    </tr>\n",
       "    <tr>\n",
       "      <th>1</th>\n",
       "      <td>50</td>\n",
       "      <td>Self-emp-not-inc</td>\n",
       "      <td>Bachelors</td>\n",
       "      <td>13</td>\n",
       "      <td>Married-civ-spouse</td>\n",
       "      <td>Exec-managerial</td>\n",
       "      <td>Husband</td>\n",
       "      <td>White</td>\n",
       "      <td>Male</td>\n",
       "      <td>0</td>\n",
       "      <td>0</td>\n",
       "      <td>13</td>\n",
       "      <td>United-States</td>\n",
       "      <td>&lt;=50K</td>\n",
       "      <td>(40, 50]</td>\n",
       "    </tr>\n",
       "    <tr>\n",
       "      <th>2</th>\n",
       "      <td>38</td>\n",
       "      <td>Private</td>\n",
       "      <td>HS-grad</td>\n",
       "      <td>9</td>\n",
       "      <td>Divorced</td>\n",
       "      <td>Handlers-cleaners</td>\n",
       "      <td>Not-in-family</td>\n",
       "      <td>White</td>\n",
       "      <td>Male</td>\n",
       "      <td>0</td>\n",
       "      <td>0</td>\n",
       "      <td>40</td>\n",
       "      <td>United-States</td>\n",
       "      <td>&lt;=50K</td>\n",
       "      <td>(30, 40]</td>\n",
       "    </tr>\n",
       "    <tr>\n",
       "      <th>3</th>\n",
       "      <td>53</td>\n",
       "      <td>Private</td>\n",
       "      <td>11th</td>\n",
       "      <td>7</td>\n",
       "      <td>Married-civ-spouse</td>\n",
       "      <td>Handlers-cleaners</td>\n",
       "      <td>Husband</td>\n",
       "      <td>Black</td>\n",
       "      <td>Male</td>\n",
       "      <td>0</td>\n",
       "      <td>0</td>\n",
       "      <td>40</td>\n",
       "      <td>United-States</td>\n",
       "      <td>&lt;=50K</td>\n",
       "      <td>(50, 60]</td>\n",
       "    </tr>\n",
       "    <tr>\n",
       "      <th>4</th>\n",
       "      <td>28</td>\n",
       "      <td>Private</td>\n",
       "      <td>Bachelors</td>\n",
       "      <td>13</td>\n",
       "      <td>Married-civ-spouse</td>\n",
       "      <td>Prof-specialty</td>\n",
       "      <td>Wife</td>\n",
       "      <td>Black</td>\n",
       "      <td>Female</td>\n",
       "      <td>0</td>\n",
       "      <td>0</td>\n",
       "      <td>40</td>\n",
       "      <td>Cuba</td>\n",
       "      <td>&lt;=50K</td>\n",
       "      <td>(20, 30]</td>\n",
       "    </tr>\n",
       "  </tbody>\n",
       "</table>\n",
       "</div>"
      ],
      "text/plain": [
       "   age          workclass   education  education-num       marital-status  \\\n",
       "0   39          State-gov   Bachelors             13        Never-married   \n",
       "1   50   Self-emp-not-inc   Bachelors             13   Married-civ-spouse   \n",
       "2   38            Private     HS-grad              9             Divorced   \n",
       "3   53            Private        11th              7   Married-civ-spouse   \n",
       "4   28            Private   Bachelors             13   Married-civ-spouse   \n",
       "\n",
       "           occupation    relationship    race      sex  capital-gain  \\\n",
       "0        Adm-clerical   Not-in-family   White     Male          2174   \n",
       "1     Exec-managerial         Husband   White     Male             0   \n",
       "2   Handlers-cleaners   Not-in-family   White     Male             0   \n",
       "3   Handlers-cleaners         Husband   Black     Male             0   \n",
       "4      Prof-specialty            Wife   Black   Female             0   \n",
       "\n",
       "   capital-loss  hours-per-week  native-country  income  age_bins  \n",
       "0             0              40   United-States   <=50K  (30, 40]  \n",
       "1             0              13   United-States   <=50K  (40, 50]  \n",
       "2             0              40   United-States   <=50K  (30, 40]  \n",
       "3             0              40   United-States   <=50K  (50, 60]  \n",
       "4             0              40            Cuba   <=50K  (20, 30]  "
      ]
     },
     "execution_count": 19,
     "metadata": {},
     "output_type": "execute_result"
    }
   ],
   "source": [
    "df.head()"
   ]
  },
  {
   "cell_type": "code",
   "execution_count": 20,
   "metadata": {
    "colab": {
     "base_uri": "https://localhost:8080/"
    },
    "id": "OzuvAREYtifK",
    "outputId": "cb4efd8e-56ce-47fd-92bc-129d61f73df5"
   },
   "outputs": [
    {
     "data": {
      "text/plain": [
       "age                74\n",
       "workclass           7\n",
       "education          16\n",
       "education-num      16\n",
       "marital-status      7\n",
       "occupation         14\n",
       "relationship        6\n",
       "race                5\n",
       "sex                 2\n",
       "capital-gain      121\n",
       "capital-loss       97\n",
       "hours-per-week     96\n",
       "native-country     41\n",
       "income              2\n",
       "age_bins            7\n",
       "dtype: int64"
      ]
     },
     "execution_count": 20,
     "metadata": {},
     "output_type": "execute_result"
    }
   ],
   "source": [
    "df.nunique()"
   ]
  },
  {
   "cell_type": "code",
   "execution_count": 21,
   "metadata": {
    "colab": {
     "base_uri": "https://localhost:8080/"
    },
    "id": "YfRl-kwwtsTn",
    "outputId": "3a0d257a-ad13-4d5b-ad09-be4af2791753"
   },
   "outputs": [
    {
     "data": {
      "text/plain": [
       "0                State-gov\n",
       "1         Self-emp-not-inc\n",
       "2                  Private\n",
       "3                  Private\n",
       "4                  Private\n",
       "               ...        \n",
       "16275              Private\n",
       "16276              Private\n",
       "16278              Private\n",
       "16279              Private\n",
       "16280         Self-emp-inc\n",
       "Name: workclass, Length: 45222, dtype: object"
      ]
     },
     "execution_count": 21,
     "metadata": {},
     "output_type": "execute_result"
    }
   ],
   "source": [
    "df['workclass']"
   ]
  },
  {
   "cell_type": "markdown",
   "metadata": {
    "id": "iQkdqzd0-pNt"
   },
   "source": []
  },
  {
   "cell_type": "markdown",
   "metadata": {
    "id": "H9nYpVwVaRA8"
   },
   "source": []
  },
  {
   "cell_type": "code",
   "execution_count": null,
   "metadata": {
    "id": "k2g7VrYmFXCn"
   },
   "outputs": [],
   "source": []
  },
  {
   "cell_type": "markdown",
   "metadata": {
    "id": "xz8T9A2ZH5OL"
   },
   "source": [
    "## Univariate Analysis"
   ]
  },
  {
   "cell_type": "code",
   "execution_count": 22,
   "metadata": {
    "colab": {
     "base_uri": "https://localhost:8080/",
     "height": 300
    },
    "id": "nnWbCuZDIEK3",
    "outputId": "b062cbdd-c79d-4de0-a03c-9bedd871dcc7"
   },
   "outputs": [
    {
     "data": {
      "text/html": [
       "<div>\n",
       "<style scoped>\n",
       "    .dataframe tbody tr th:only-of-type {\n",
       "        vertical-align: middle;\n",
       "    }\n",
       "\n",
       "    .dataframe tbody tr th {\n",
       "        vertical-align: top;\n",
       "    }\n",
       "\n",
       "    .dataframe thead th {\n",
       "        text-align: right;\n",
       "    }\n",
       "</style>\n",
       "<table border=\"1\" class=\"dataframe\">\n",
       "  <thead>\n",
       "    <tr style=\"text-align: right;\">\n",
       "      <th></th>\n",
       "      <th>age</th>\n",
       "      <th>education-num</th>\n",
       "      <th>capital-gain</th>\n",
       "      <th>capital-loss</th>\n",
       "      <th>hours-per-week</th>\n",
       "    </tr>\n",
       "  </thead>\n",
       "  <tbody>\n",
       "    <tr>\n",
       "      <th>count</th>\n",
       "      <td>45222.000000</td>\n",
       "      <td>45222.000000</td>\n",
       "      <td>45222.000000</td>\n",
       "      <td>45222.000000</td>\n",
       "      <td>45222.000000</td>\n",
       "    </tr>\n",
       "    <tr>\n",
       "      <th>mean</th>\n",
       "      <td>38.547941</td>\n",
       "      <td>10.118460</td>\n",
       "      <td>1101.430344</td>\n",
       "      <td>88.595418</td>\n",
       "      <td>40.938017</td>\n",
       "    </tr>\n",
       "    <tr>\n",
       "      <th>std</th>\n",
       "      <td>13.217870</td>\n",
       "      <td>2.552881</td>\n",
       "      <td>7506.430084</td>\n",
       "      <td>404.956092</td>\n",
       "      <td>12.007508</td>\n",
       "    </tr>\n",
       "    <tr>\n",
       "      <th>min</th>\n",
       "      <td>17.000000</td>\n",
       "      <td>1.000000</td>\n",
       "      <td>0.000000</td>\n",
       "      <td>0.000000</td>\n",
       "      <td>1.000000</td>\n",
       "    </tr>\n",
       "    <tr>\n",
       "      <th>25%</th>\n",
       "      <td>28.000000</td>\n",
       "      <td>9.000000</td>\n",
       "      <td>0.000000</td>\n",
       "      <td>0.000000</td>\n",
       "      <td>40.000000</td>\n",
       "    </tr>\n",
       "    <tr>\n",
       "      <th>50%</th>\n",
       "      <td>37.000000</td>\n",
       "      <td>10.000000</td>\n",
       "      <td>0.000000</td>\n",
       "      <td>0.000000</td>\n",
       "      <td>40.000000</td>\n",
       "    </tr>\n",
       "    <tr>\n",
       "      <th>75%</th>\n",
       "      <td>47.000000</td>\n",
       "      <td>13.000000</td>\n",
       "      <td>0.000000</td>\n",
       "      <td>0.000000</td>\n",
       "      <td>45.000000</td>\n",
       "    </tr>\n",
       "    <tr>\n",
       "      <th>max</th>\n",
       "      <td>90.000000</td>\n",
       "      <td>16.000000</td>\n",
       "      <td>99999.000000</td>\n",
       "      <td>4356.000000</td>\n",
       "      <td>99.000000</td>\n",
       "    </tr>\n",
       "  </tbody>\n",
       "</table>\n",
       "</div>"
      ],
      "text/plain": [
       "                age  education-num  capital-gain  capital-loss  hours-per-week\n",
       "count  45222.000000   45222.000000  45222.000000  45222.000000    45222.000000\n",
       "mean      38.547941      10.118460   1101.430344     88.595418       40.938017\n",
       "std       13.217870       2.552881   7506.430084    404.956092       12.007508\n",
       "min       17.000000       1.000000      0.000000      0.000000        1.000000\n",
       "25%       28.000000       9.000000      0.000000      0.000000       40.000000\n",
       "50%       37.000000      10.000000      0.000000      0.000000       40.000000\n",
       "75%       47.000000      13.000000      0.000000      0.000000       45.000000\n",
       "max       90.000000      16.000000  99999.000000   4356.000000       99.000000"
      ]
     },
     "execution_count": 22,
     "metadata": {},
     "output_type": "execute_result"
    }
   ],
   "source": [
    "df.describe()"
   ]
  },
  {
   "cell_type": "code",
   "execution_count": 23,
   "metadata": {
    "colab": {
     "base_uri": "https://localhost:8080/",
     "height": 1000
    },
    "id": "_fLpuD4LEKr7",
    "outputId": "c8c04515-6c94-4f12-f0ef-a8ee9f00c50e"
   },
   "outputs": [
    {
     "data": {
      "text/plain": [
       "<Figure size 360x360 with 0 Axes>"
      ]
     },
     "metadata": {},
     "output_type": "display_data"
    },
    {
     "data": {
      "image/png": "[encoded data removed]",
      "text/plain": [
       "<Figure size 360x360 with 1 Axes>"
      ]
     },
     "metadata": {
      "needs_background": "light"
     },
     "output_type": "display_data"
    },
    {
     "data": {
      "text/plain": [
       "<Figure size 360x360 with 0 Axes>"
      ]
     },
     "metadata": {},
     "output_type": "display_data"
    },
    {
     "data": {
      "image/png": "[encoded data removed]",
      "text/plain": [
       "<Figure size 360x360 with 1 Axes>"
      ]
     },
     "metadata": {
      "needs_background": "light"
     },
     "output_type": "display_data"
    },
    {
     "data": {
      "text/plain": [
       "<Figure size 360x360 with 0 Axes>"
      ]
     },
     "metadata": {},
     "output_type": "display_data"
    },
    {
     "data": {
      "image/png": "[encoded data removed]",
      "text/plain": [
       "<Figure size 360x360 with 1 Axes>"
      ]
     },
     "metadata": {
      "needs_background": "light"
     },
     "output_type": "display_data"
    },
    {
     "data": {
      "text/plain": [
       "<Figure size 360x360 with 0 Axes>"
      ]
     },
     "metadata": {},
     "output_type": "display_data"
    },
    {
     "data": {
      "image/png": "[encoded data removed]",
      "text/plain": [
       "<Figure size 360x360 with 1 Axes>"
      ]
     },
     "metadata": {
      "needs_background": "light"
     },
     "output_type": "display_data"
    },
    {
     "data": {
      "text/plain": [
       "<Figure size 360x360 with 0 Axes>"
      ]
     },
     "metadata": {},
     "output_type": "display_data"
    },
    {
     "data": {
      "image/png": "[encoded data removed]",
      "text/plain": [
       "<Figure size 360x360 with 1 Axes>"
      ]
     },
     "metadata": {
      "needs_background": "light"
     },
     "output_type": "display_data"
    }
   ],
   "source": [
    "#Lydia start \n",
    "df_numerical = list(df.select_dtypes(include=['int64', 'float64']).columns)\n",
    "for i in range(len(df_numerical)):\n",
    "  plt.figure(figsize=(5,5))\n",
    "  sns.displot(df[df_numerical[i]])\n",
    "  plt.ylabel(\"Number of Instances\")\n",
    "  plt.title(\"Figure \" +str(i)+ \" \" +str(df_numerical[i])+ \" Distribution\")\n",
    "\n",
    "plt.show(); \n",
    "#Lydia end"
   ]
  },
  {
   "cell_type": "code",
   "execution_count": 24,
   "metadata": {
    "colab": {
     "base_uri": "https://localhost:8080/",
     "height": 350
    },
    "id": "nr8NwzT0KKY3",
    "outputId": "c21e276c-2d40-4581-96a9-f50cdd171660"
   },
   "outputs": [
    {
     "data": {
      "image/png": "[encoded data removed]",
      "text/plain": [
       "<Figure size 360x360 with 1 Axes>"
      ]
     },
     "metadata": {
      "needs_background": "light"
     },
     "output_type": "display_data"
    }
   ],
   "source": [
    "# occupation plot\n",
    "fig = plt.figure(figsize=(5,5))\n",
    "sns.countplot(data=df, y='occupation').set(title='Figure 8 Occupation Distribution', ylabel='Occupation Type', xlabel='Number of Instances');"
   ]
  },
  {
   "cell_type": "code",
   "execution_count": 25,
   "metadata": {
    "colab": {
     "base_uri": "https://localhost:8080/",
     "height": 403
    },
    "id": "CIMstErP9V_i",
    "outputId": "f3d1cfd7-651d-413f-b5f1-635584b74e91"
   },
   "outputs": [
    {
     "data": {
      "text/plain": [
       "<Figure size 720x360 with 0 Axes>"
      ]
     },
     "metadata": {},
     "output_type": "display_data"
    },
    {
     "data": {
      "image/png": "[encoded data removed]",
      "text/plain": [
       "<Figure size 360x360 with 1 Axes>"
      ]
     },
     "metadata": {
      "needs_background": "light"
     },
     "output_type": "display_data"
    }
   ],
   "source": [
    "fig = plt.figure(figsize=(10,5))\n",
    "sns.displot(df['capital-gain'])\n",
    "plt.xlabel(\"Capital Gain\")\n",
    "plt.ylabel(\"Number of Instances\")\n",
    "plt.title(\"Figure 1 Capital Gain Distribution\")\n",
    "plt.show();"
   ]
  },
  {
   "cell_type": "code",
   "execution_count": 26,
   "metadata": {
    "colab": {
     "base_uri": "https://localhost:8080/",
     "height": 403
    },
    "id": "ufw38Lpt9-co",
    "outputId": "3c2a4db6-78ff-4fef-92b8-16159e987e84"
   },
   "outputs": [
    {
     "data": {
      "text/plain": [
       "<Figure size 720x360 with 0 Axes>"
      ]
     },
     "metadata": {},
     "output_type": "display_data"
    },
    {
     "data": {
      "image/png": "[encoded data removed]",
      "text/plain": [
       "<Figure size 360x360 with 1 Axes>"
      ]
     },
     "metadata": {
      "needs_background": "light"
     },
     "output_type": "display_data"
    }
   ],
   "source": [
    "fig = plt.figure(figsize=(10,5))\n",
    "sns.displot(df['capital-loss'])\n",
    "plt.xlabel(\"Capital Loss\")\n",
    "plt.ylabel(\"Number of Instances\")\n",
    "plt.title(\"Figure 2 Capital Loss Distribution\")\n",
    "plt.show();"
   ]
  },
  {
   "cell_type": "markdown",
   "metadata": {
    "id": "N0w7RdSKZ5Iy"
   },
   "source": [
    "*age* Distribution:"
   ]
  },
  {
   "cell_type": "code",
   "execution_count": 27,
   "metadata": {
    "colab": {
     "base_uri": "https://localhost:8080/"
    },
    "id": "Wp7Fiz02Rnm3",
    "outputId": "6137422d-5195-4cef-f738-eb27cd844cb3"
   },
   "outputs": [
    {
     "name": "stdout",
     "output_type": "stream",
     "text": [
      "(30, 40]    0.271792\n",
      "(20, 30]    0.249701\n",
      "(40, 50]    0.220910\n",
      "(50, 60]    0.128986\n",
      "(10, 20]    0.065632\n",
      "(60, 70]    0.048914\n",
      "(70, 80]    0.011543\n",
      "Name: age_bins, dtype: float64\n"
     ]
    }
   ],
   "source": [
    "print(df['age_bins'].value_counts()/len(df))"
   ]
  },
  {
   "cell_type": "code",
   "execution_count": 28,
   "metadata": {
    "colab": {
     "base_uri": "https://localhost:8080/",
     "height": 353
    },
    "id": "U1AoqXiqZiH4",
    "outputId": "78ceef57-28cd-428f-be44-793f60d34db1"
   },
   "outputs": [
    {
     "data": {
      "text/plain": [
       "Text(0.5, 1.0, '')"
      ]
     },
     "execution_count": 28,
     "metadata": {},
     "output_type": "execute_result"
    },
    {
     "data": {
      "image/png": "[encoded data removed]",
      "text/plain": [
       "<Figure size 720x360 with 1 Axes>"
      ]
     },
     "metadata": {
      "needs_background": "light"
     },
     "output_type": "display_data"
    }
   ],
   "source": [
    "fig = plt.figure(figsize=(10,5))\n",
    "sns.countplot(data=df, x='age_bins')\n",
    "plt.xlabel(\"Age Groups\")\n",
    "plt.ylabel(\"Number of Instances\")\n",
    "plt.title(\"\")"
   ]
  },
  {
   "cell_type": "markdown",
   "metadata": {
    "id": "A427VR2bZ8Tu"
   },
   "source": [
    "*workclass* Distribution:"
   ]
  },
  {
   "cell_type": "code",
   "execution_count": 29,
   "metadata": {
    "colab": {
     "base_uri": "https://localhost:8080/"
    },
    "id": "gQni-_QmRrbH",
    "outputId": "c7a6a35e-e833-410c-df20-f71b90b1420b"
   },
   "outputs": [
    {
     "name": "stdout",
     "output_type": "stream",
     "text": [
      " Private             0.736522\n",
      " Self-emp-not-inc    0.083941\n",
      " Local-gov           0.068551\n",
      " State-gov           0.043032\n",
      " Self-emp-inc        0.036398\n",
      " Federal-gov         0.031091\n",
      " Without-pay         0.000464\n",
      "Name: workclass, dtype: float64\n"
     ]
    }
   ],
   "source": [
    "print(df['workclass'].value_counts()/len(df))"
   ]
  },
  {
   "cell_type": "code",
   "execution_count": 30,
   "metadata": {
    "colab": {
     "base_uri": "https://localhost:8080/",
     "height": 352
    },
    "id": "m8pcHS4HaJlP",
    "outputId": "07680be4-e007-4fd8-a1cc-a18d221065f7"
   },
   "outputs": [
    {
     "data": {
      "text/plain": [
       "<AxesSubplot:xlabel='workclass', ylabel='count'>"
      ]
     },
     "execution_count": 30,
     "metadata": {},
     "output_type": "execute_result"
    },
    {
     "data": {
      "image/png": "[encoded data removed]",
      "text/plain": [
       "<Figure size 720x360 with 1 Axes>"
      ]
     },
     "metadata": {
      "needs_background": "light"
     },
     "output_type": "display_data"
    }
   ],
   "source": [
    "fig = plt.figure(figsize=(10,5))\n",
    "sns.countplot(data=df, x='workclass')"
   ]
  },
  {
   "cell_type": "markdown",
   "metadata": {
    "id": "zxRtanfuaM4s"
   },
   "source": [
    "*education-num* Distribution:"
   ]
  },
  {
   "cell_type": "code",
   "execution_count": 31,
   "metadata": {
    "colab": {
     "base_uri": "https://localhost:8080/",
     "height": 1000
    },
    "id": "22KbxaxVRR2p",
    "outputId": "06ebcc57-356b-4a03-b370-f37a8bc44316"
   },
   "outputs": [
    {
     "data": {
      "text/html": [
       "<div>\n",
       "<style scoped>\n",
       "    .dataframe tbody tr th:only-of-type {\n",
       "        vertical-align: middle;\n",
       "    }\n",
       "\n",
       "    .dataframe tbody tr th {\n",
       "        vertical-align: top;\n",
       "    }\n",
       "\n",
       "    .dataframe thead th {\n",
       "        text-align: right;\n",
       "    }\n",
       "</style>\n",
       "<table border=\"1\" class=\"dataframe\">\n",
       "  <thead>\n",
       "    <tr style=\"text-align: right;\">\n",
       "      <th></th>\n",
       "      <th></th>\n",
       "      <th>income</th>\n",
       "    </tr>\n",
       "    <tr>\n",
       "      <th>sex</th>\n",
       "      <th>education-num</th>\n",
       "      <th></th>\n",
       "    </tr>\n",
       "  </thead>\n",
       "  <tbody>\n",
       "    <tr>\n",
       "      <th rowspan=\"16\" valign=\"top\">Female</th>\n",
       "      <th>1</th>\n",
       "      <td>0.000442</td>\n",
       "    </tr>\n",
       "    <tr>\n",
       "      <th>2</th>\n",
       "      <td>0.001238</td>\n",
       "    </tr>\n",
       "    <tr>\n",
       "      <th>3</th>\n",
       "      <td>0.002410</td>\n",
       "    </tr>\n",
       "    <tr>\n",
       "      <th>4</th>\n",
       "      <td>0.004356</td>\n",
       "    </tr>\n",
       "    <tr>\n",
       "      <th>5</th>\n",
       "      <td>0.004135</td>\n",
       "    </tr>\n",
       "    <tr>\n",
       "      <th>6</th>\n",
       "      <td>0.008646</td>\n",
       "    </tr>\n",
       "    <tr>\n",
       "      <th>7</th>\n",
       "      <td>0.012295</td>\n",
       "    </tr>\n",
       "    <tr>\n",
       "      <th>8</th>\n",
       "      <td>0.003958</td>\n",
       "    </tr>\n",
       "    <tr>\n",
       "      <th>9</th>\n",
       "      <td>0.103069</td>\n",
       "    </tr>\n",
       "    <tr>\n",
       "      <th>10</th>\n",
       "      <td>0.082128</td>\n",
       "    </tr>\n",
       "    <tr>\n",
       "      <th>11</th>\n",
       "      <td>0.014926</td>\n",
       "    </tr>\n",
       "    <tr>\n",
       "      <th>12</th>\n",
       "      <td>0.012936</td>\n",
       "    </tr>\n",
       "    <tr>\n",
       "      <th>13</th>\n",
       "      <td>0.051524</td>\n",
       "    </tr>\n",
       "    <tr>\n",
       "      <th>14</th>\n",
       "      <td>0.017757</td>\n",
       "    </tr>\n",
       "    <tr>\n",
       "      <th>15</th>\n",
       "      <td>0.002742</td>\n",
       "    </tr>\n",
       "    <tr>\n",
       "      <th>16</th>\n",
       "      <td>0.002388</td>\n",
       "    </tr>\n",
       "    <tr>\n",
       "      <th rowspan=\"16\" valign=\"top\">Male</th>\n",
       "      <th>1</th>\n",
       "      <td>0.001150</td>\n",
       "    </tr>\n",
       "    <tr>\n",
       "      <th>2</th>\n",
       "      <td>0.003671</td>\n",
       "    </tr>\n",
       "    <tr>\n",
       "      <th>3</th>\n",
       "      <td>0.007518</td>\n",
       "    </tr>\n",
       "    <tr>\n",
       "      <th>4</th>\n",
       "      <td>0.013843</td>\n",
       "    </tr>\n",
       "    <tr>\n",
       "      <th>5</th>\n",
       "      <td>0.010813</td>\n",
       "    </tr>\n",
       "    <tr>\n",
       "      <th>6</th>\n",
       "      <td>0.018398</td>\n",
       "    </tr>\n",
       "    <tr>\n",
       "      <th>7</th>\n",
       "      <td>0.023506</td>\n",
       "    </tr>\n",
       "    <tr>\n",
       "      <th>8</th>\n",
       "      <td>0.008801</td>\n",
       "    </tr>\n",
       "    <tr>\n",
       "      <th>9</th>\n",
       "      <td>0.223829</td>\n",
       "    </tr>\n",
       "    <tr>\n",
       "      <th>10</th>\n",
       "      <td>0.136770</td>\n",
       "    </tr>\n",
       "    <tr>\n",
       "      <th>11</th>\n",
       "      <td>0.028393</td>\n",
       "    </tr>\n",
       "    <tr>\n",
       "      <th>12</th>\n",
       "      <td>0.020388</td>\n",
       "    </tr>\n",
       "    <tr>\n",
       "      <th>13</th>\n",
       "      <td>0.115873</td>\n",
       "    </tr>\n",
       "    <tr>\n",
       "      <th>14</th>\n",
       "      <td>0.037836</td>\n",
       "    </tr>\n",
       "    <tr>\n",
       "      <th>15</th>\n",
       "      <td>0.014617</td>\n",
       "    </tr>\n",
       "    <tr>\n",
       "      <th>16</th>\n",
       "      <td>0.009641</td>\n",
       "    </tr>\n",
       "  </tbody>\n",
       "</table>\n",
       "</div>"
      ],
      "text/plain": [
       "                         income\n",
       "sex     education-num          \n",
       " Female 1              0.000442\n",
       "        2              0.001238\n",
       "        3              0.002410\n",
       "        4              0.004356\n",
       "        5              0.004135\n",
       "        6              0.008646\n",
       "        7              0.012295\n",
       "        8              0.003958\n",
       "        9              0.103069\n",
       "        10             0.082128\n",
       "        11             0.014926\n",
       "        12             0.012936\n",
       "        13             0.051524\n",
       "        14             0.017757\n",
       "        15             0.002742\n",
       "        16             0.002388\n",
       " Male   1              0.001150\n",
       "        2              0.003671\n",
       "        3              0.007518\n",
       "        4              0.013843\n",
       "        5              0.010813\n",
       "        6              0.018398\n",
       "        7              0.023506\n",
       "        8              0.008801\n",
       "        9              0.223829\n",
       "        10             0.136770\n",
       "        11             0.028393\n",
       "        12             0.020388\n",
       "        13             0.115873\n",
       "        14             0.037836\n",
       "        15             0.014617\n",
       "        16             0.009641"
      ]
     },
     "execution_count": 31,
     "metadata": {},
     "output_type": "execute_result"
    }
   ],
   "source": [
    "df[['sex','income','education-num']].groupby(['sex','education-num']).count()/df['sex'].count()"
   ]
  },
  {
   "cell_type": "code",
   "execution_count": 32,
   "metadata": {
    "colab": {
     "base_uri": "https://localhost:8080/",
     "height": 352
    },
    "id": "mOAUR9cNaRWH",
    "outputId": "26bd75d5-4736-4916-84e5-929b8e68e207"
   },
   "outputs": [
    {
     "data": {
      "text/plain": [
       "<AxesSubplot:xlabel='education-num', ylabel='count'>"
      ]
     },
     "execution_count": 32,
     "metadata": {},
     "output_type": "execute_result"
    },
    {
     "data": {
      "image/png": "[encoded data removed]",
      "text/plain": [
       "<Figure size 720x360 with 1 Axes>"
      ]
     },
     "metadata": {
      "needs_background": "light"
     },
     "output_type": "display_data"
    }
   ],
   "source": [
    "fig = plt.figure(figsize=(10,5))\n",
    "sns.countplot(data=df, x='education-num', hue='sex')"
   ]
  },
  {
   "cell_type": "markdown",
   "metadata": {
    "id": "HsmnZK5fae0K"
   },
   "source": [
    "*marital-status* Distribution:"
   ]
  },
  {
   "cell_type": "code",
   "execution_count": 33,
   "metadata": {
    "colab": {
     "base_uri": "https://localhost:8080/"
    },
    "id": "i8eAbI_URRw4",
    "outputId": "975cf055-a258-4261-ce41-8f48368ce6fc"
   },
   "outputs": [
    {
     "name": "stdout",
     "output_type": "stream",
     "text": [
      " Married-civ-spouse       0.465592\n",
      " Never-married            0.322807\n",
      " Divorced                 0.139246\n",
      " Separated                0.031202\n",
      " Widowed                  0.028238\n",
      " Married-spouse-absent    0.012206\n",
      " Married-AF-spouse        0.000708\n",
      "Name: marital-status, dtype: float64\n"
     ]
    }
   ],
   "source": [
    "print(df['marital-status'].value_counts()/len(df))"
   ]
  },
  {
   "cell_type": "code",
   "execution_count": 34,
   "metadata": {
    "colab": {
     "base_uri": "https://localhost:8080/",
     "height": 352
    },
    "id": "G_8O1lffakYM",
    "outputId": "3e471c8e-3f96-4a50-9153-1c2faf4e0930"
   },
   "outputs": [
    {
     "data": {
      "text/plain": [
       "<AxesSubplot:xlabel='marital-status', ylabel='count'>"
      ]
     },
     "execution_count": 34,
     "metadata": {},
     "output_type": "execute_result"
    },
    {
     "data": {
      "image/png": "[encoded data removed]",
      "text/plain": [
       "<Figure size 1440x360 with 1 Axes>"
      ]
     },
     "metadata": {
      "needs_background": "light"
     },
     "output_type": "display_data"
    }
   ],
   "source": [
    "fig = plt.figure(figsize=(20,5))\n",
    "sns.countplot(data=df, x='marital-status')"
   ]
  },
  {
   "cell_type": "markdown",
   "metadata": {
    "id": "PhWdfOt1anxK"
   },
   "source": [
    "*sex* Distribution:"
   ]
  },
  {
   "cell_type": "code",
   "execution_count": 35,
   "metadata": {
    "colab": {
     "base_uri": "https://localhost:8080/"
    },
    "id": "zMby2dR2O9xn",
    "outputId": "d786557d-fddf-401a-e2bb-cee3950ea00f"
   },
   "outputs": [
    {
     "name": "stdout",
     "output_type": "stream",
     "text": [
      " Male      0.675048\n",
      " Female    0.324952\n",
      "Name: sex, dtype: float64\n"
     ]
    }
   ],
   "source": [
    "print(df['sex'].value_counts()/len(df))"
   ]
  },
  {
   "cell_type": "code",
   "execution_count": 36,
   "metadata": {
    "colab": {
     "base_uri": "https://localhost:8080/",
     "height": 352
    },
    "id": "H4F41A2jaqjO",
    "outputId": "3c033e3b-3545-4e2a-a9b0-ca76fffd0782"
   },
   "outputs": [
    {
     "data": {
      "text/plain": [
       "<AxesSubplot:xlabel='sex', ylabel='count'>"
      ]
     },
     "execution_count": 36,
     "metadata": {},
     "output_type": "execute_result"
    },
    {
     "data": {
      "image/png": "[encoded data removed]",
      "text/plain": [
       "<Figure size 720x360 with 1 Axes>"
      ]
     },
     "metadata": {
      "needs_background": "light"
     },
     "output_type": "display_data"
    }
   ],
   "source": [
    "fig = plt.figure(figsize=(10,5))\n",
    "sns.countplot(data=df, x='sex')"
   ]
  },
  {
   "cell_type": "markdown",
   "metadata": {
    "id": "Ibei3Hhqav1g"
   },
   "source": [
    "*income* Distribution:"
   ]
  },
  {
   "cell_type": "code",
   "execution_count": 37,
   "metadata": {
    "colab": {
     "base_uri": "https://localhost:8080/"
    },
    "id": "fWQ0UmntIFgw",
    "outputId": "91ab369c-00c3-43c5-a0f4-5aa52584b6fb"
   },
   "outputs": [
    {
     "name": "stdout",
     "output_type": "stream",
     "text": [
      " <=50K    0.752156\n",
      " >50K     0.247844\n",
      "Name: income, dtype: float64\n"
     ]
    }
   ],
   "source": [
    "print(df['income'].value_counts()/len(df))"
   ]
  },
  {
   "cell_type": "code",
   "execution_count": 38,
   "metadata": {
    "colab": {
     "base_uri": "https://localhost:8080/",
     "height": 352
    },
    "id": "Nm8OQmMOa4AN",
    "outputId": "68f9d2da-7e48-450d-8f0e-c3ee42a0c3ab"
   },
   "outputs": [
    {
     "data": {
      "text/plain": [
       "<AxesSubplot:xlabel='income', ylabel='count'>"
      ]
     },
     "execution_count": 38,
     "metadata": {},
     "output_type": "execute_result"
    },
    {
     "data": {
      "image/png": "[encoded data removed]",
      "text/plain": [
       "<Figure size 720x360 with 1 Axes>"
      ]
     },
     "metadata": {
      "needs_background": "light"
     },
     "output_type": "display_data"
    }
   ],
   "source": [
    "fig = plt.figure(figsize=(10,5))\n",
    "sns.countplot(data=df, x='income')"
   ]
  },
  {
   "cell_type": "markdown",
   "metadata": {
    "id": "TrAxTyAbSCnR"
   },
   "source": [
    "## Bivariate Analysis"
   ]
  },
  {
   "cell_type": "code",
   "execution_count": 39,
   "metadata": {
    "colab": {
     "base_uri": "https://localhost:8080/",
     "height": 1000
    },
    "id": "Wpn9qY1g_GYw",
    "outputId": "0067a352-db19-4db5-df3b-e640a0b217ad"
   },
   "outputs": [
    {
     "name": "stdout",
     "output_type": "stream",
     "text": [
      "['workclass', 'education', 'marital-status', 'occupation', 'relationship', 'race', 'sex', 'native-country']\n",
      "['age', 'education-num', 'capital-gain', 'capital-loss', 'hours-per-week', 'age_bins']\n",
      "                   >50K  Total      rate\n",
      "workclass                               \n",
      " Federal-gov        549   1406  0.390469\n",
      " Local-gov          915   3100  0.295161\n",
      " Private           7251  33307  0.217702\n",
      " Self-emp-inc       912   1646  0.554070\n",
      " Self-emp-not-inc  1059   3796  0.278978\n",
      " State-gov          520   1946  0.267215\n",
      " Without-pay          2     21  0.095238\n",
      "               >50K  Total      rate\n",
      "education                           \n",
      " 10th            82   1223  0.067048\n",
      " 11th            89   1619  0.054972\n",
      " 12th            43    577  0.074523\n",
      " 1st-4th          8    222  0.036036\n",
      " 5th-6th         22    449  0.048998\n",
      " 7th-8th         55    823  0.066829\n",
      " 9th             38    676  0.056213\n",
      " Assoc-acdm     398   1507  0.264101\n",
      " Assoc-voc      504   1959  0.257274\n",
      " Bachelors     3178   7570  0.419815\n",
      " Doctorate      399    544  0.733456\n",
      " HS-grad       2416  14783  0.163431\n",
      " Masters       1393   2514  0.554097\n",
      " Preschool        1     72  0.013889\n",
      " Prof-school    592    785  0.754140\n",
      " Some-college  1990   9899  0.201030\n",
      "                        >50K  Total      rate\n",
      "marital-status                               \n",
      " Divorced                655   6297  0.104018\n",
      " Married-AF-spouse        14     32  0.437500\n",
      " Married-civ-spouse     9564  21055  0.454239\n",
      " Married-spouse-absent    54    552  0.097826\n",
      " Never-married           701  14598  0.048020\n",
      " Separated                99   1411  0.070163\n",
      " Widowed                 121   1277  0.094753\n",
      "                    >50K  Total      rate\n",
      "occupation                               \n",
      " Adm-clerical        756   5540  0.136462\n",
      " Armed-Forces          4     14  0.285714\n",
      " Craft-repair       1355   6020  0.225083\n",
      " Exec-managerial    2867   5984  0.479111\n",
      " Farming-fishing     172   1480  0.116216\n",
      " Handlers-cleaners   135   2046  0.065982\n",
      " Machine-op-inspct   365   2970  0.122896\n",
      " Other-service       196   4808  0.040765\n",
      " Priv-house-serv       3    232  0.012931\n",
      " Prof-specialty     2704   6008  0.450067\n",
      " Protective-serv     307    976  0.314549\n",
      " Sales              1455   5408  0.269046\n",
      " Tech-support        411   1420  0.289437\n",
      " Transport-moving    478   2316  0.206390\n",
      "                 >50K  Total      rate\n",
      "relationship                          \n",
      " Husband         8507  18666  0.455748\n",
      " Not-in-family   1228  11702  0.104939\n",
      " Other-relative    50   1349  0.037064\n",
      " Own-child        105   6626  0.015847\n",
      " Unmarried        302   4788  0.063074\n",
      " Wife            1016   2091  0.485892\n",
      "                      >50K  Total      rate\n",
      "race                                       \n",
      " Amer-Indian-Eskimo     53    435  0.121839\n",
      " Asian-Pac-Islander    369   1303  0.283193\n",
      " Black                 534   4228  0.126301\n",
      " Other                  45    353  0.127479\n",
      " White               10207  38903  0.262371\n",
      "         >50K  Total      rate\n",
      "sex                           \n",
      " Female  1669  14695  0.113576\n",
      " Male    9539  30527  0.312477\n",
      "                                >50K  Total      rate\n",
      "native-country                                       \n",
      " Cambodia                        9.0     26  0.346154\n",
      " Canada                         60.0    163  0.368098\n",
      " China                          36.0    113  0.318584\n",
      " Columbia                        4.0     82  0.048780\n",
      " Cuba                           34.0    133  0.255639\n",
      " Dominican-Republic              5.0     97  0.051546\n",
      " Ecuador                         6.0     43  0.139535\n",
      " El-Salvador                    11.0    147  0.074830\n",
      " England                        47.0    119  0.394958\n",
      " France                         16.0     36  0.444444\n",
      " Germany                        58.0    193  0.300518\n",
      " Greece                         18.0     49  0.367347\n",
      " Guatemala                       3.0     86  0.034884\n",
      " Haiti                           9.0     69  0.130435\n",
      " Honduras                        2.0     19  0.105263\n",
      " Hong                            8.0     28  0.285714\n",
      " Hungary                         6.0     18  0.333333\n",
      " India                          62.0    147  0.421769\n",
      " Iran                           22.0     56  0.392857\n",
      " Ireland                        10.0     36  0.277778\n",
      " Italy                          33.0    100  0.330000\n",
      " Jamaica                        14.0    103  0.135922\n",
      " Japan                          31.0     89  0.348315\n",
      " Laos                            2.0     21  0.095238\n",
      " Mexico                         47.0    903  0.052049\n",
      " Nicaragua                       3.0     48  0.062500\n",
      " Outlying-US(Guam-USVI-etc)      1.0     22  0.045455\n",
      " Peru                            4.0     45  0.088889\n",
      " Philippines                    84.0    283  0.296820\n",
      " Poland                         16.0     81  0.197531\n",
      " Portugal                       12.0     62  0.193548\n",
      " Puerto-Rico                    20.0    175  0.114286\n",
      " Scotland                        2.0     20  0.100000\n",
      " South                          18.0    101  0.178218\n",
      " Taiwan                         25.0     55  0.454545\n",
      " Thailand                        5.0     29  0.172414\n",
      " Trinadad&Tobago                 2.0     26  0.076923\n",
      " United-States               10448.0  41292  0.253027\n",
      " Vietnam                         7.0     83  0.084337\n",
      " Yugoslavia                      8.0     23  0.347826\n",
      " Holand-Netherlands              NaN      1       NaN\n"
     ]
    },
    {
     "data": {
      "image/png": "[encoded data removed]",
      "text/plain": [
       "<Figure size 720x360 with 1 Axes>"
      ]
     },
     "metadata": {
      "needs_background": "light"
     },
     "output_type": "display_data"
    },
    {
     "data": {
      "image/png": "[encoded data removed]",
      "text/plain": [
       "<Figure size 720x360 with 1 Axes>"
      ]
     },
     "metadata": {
      "needs_background": "light"
     },
     "output_type": "display_data"
    },
    {
     "data": {
      "image/png": "[encoded data removed]",
      "text/plain": [
       "<Figure size 720x360 with 1 Axes>"
      ]
     },
     "metadata": {
      "needs_background": "light"
     },
     "output_type": "display_data"
    },
    {
     "data": {
      "image/png": "[encoded data removed]",
      "text/plain": [
       "<Figure size 720x360 with 1 Axes>"
      ]
     },
     "metadata": {
      "needs_background": "light"
     },
     "output_type": "display_data"
    },
    {
     "data": {
      "image/png": "[encoded data removed]",
      "text/plain": [
       "<Figure size 720x360 with 1 Axes>"
      ]
     },
     "metadata": {
      "needs_background": "light"
     },
     "output_type": "display_data"
    },
    {
     "data": {
      "image/png": "[encoded data removed]",
      "text/plain": [
       "<Figure size 720x360 with 1 Axes>"
      ]
     },
     "metadata": {
      "needs_background": "light"
     },
     "output_type": "display_data"
    },
    {
     "data": {
      "image/png": "[encoded data removed]",
      "text/plain": [
       "<Figure size 720x360 with 1 Axes>"
      ]
     },
     "metadata": {
      "needs_background": "light"
     },
     "output_type": "display_data"
    },
    {
     "data": {
      "image/png": "[encoded data removed]",
      "text/plain": [
       "<Figure size 720x360 with 1 Axes>"
      ]
     },
     "metadata": {
      "needs_background": "light"
     },
     "output_type": "display_data"
    }
   ],
   "source": [
    "# Guanghan Xu --- start\n",
    "# separate category vs numeric features for later use \n",
    "cat_features=list()\n",
    "num_features=list()\n",
    "for features in df.columns:\n",
    "    if df[features].dtypes==object:\n",
    "        cat_features.append(features)\n",
    "    else: num_features.append(features)\n",
    "cat_features.remove('income')\n",
    "print(cat_features)\n",
    "print(num_features)\n",
    "\n",
    "# plot percentage of population with income>50K across all categorical features\n",
    "for cat in cat_features:\n",
    "    df1=df[df['income']==' >50K'].groupby(cat)['income'].count()\n",
    "    df2=df.groupby(cat)['income'].count()\n",
    "    df3=pd.concat([df1.rename('>50K'),df2.rename('Total')],axis=1)\n",
    "    df3['rate']=df3['>50K']/df3['Total']\n",
    "    plt.figure(figsize=(10,5)) # Emily: made size consistent\n",
    "    sns.barplot(x=df3.index, y=df3['rate'], data=df3)\n",
    "    plt.xticks(rotation=90)\n",
    "    plt.tight_layout()\n",
    "\n",
    "    index = cat_features.index(cat) + 6 # for reference purpose - Emily\n",
    "    plt.title(\"Figure \" + str(index) + \" - Ratio of sample based on \"+str(cat)+\" with income >50k\") #Lydia: added title.\n",
    "\n",
    "    print(df3) # Emily: show stat\n",
    "# Guanghan Xu --- end"
   ]
  },
  {
   "cell_type": "markdown",
   "metadata": {
    "id": "2WJtNTwbbFCJ"
   },
   "source": [
    "Categorical Fields vs. *income*:"
   ]
  },
  {
   "cell_type": "code",
   "execution_count": 40,
   "metadata": {
    "id": "59c0gx2qKQDD"
   },
   "outputs": [
    {
     "data": {
      "text/plain": [
       "<AxesSubplot:xlabel='age_bins', ylabel='count'>"
      ]
     },
     "execution_count": 40,
     "metadata": {},
     "output_type": "execute_result"
    },
    {
     "data": {
      "image/png": "[encoded data removed]",
      "text/plain": [
       "<Figure size 720x360 with 1 Axes>"
      ]
     },
     "metadata": {
      "needs_background": "light"
     },
     "output_type": "display_data"
    }
   ],
   "source": [
    "# age\n",
    "fig = plt.figure(figsize=(10,5))\n",
    "sns.countplot(data=df, x='age_bins', hue='income')"
   ]
  },
  {
   "cell_type": "code",
   "execution_count": 41,
   "metadata": {
    "id": "UA_6TMFSOwXX"
   },
   "outputs": [
    {
     "data": {
      "text/plain": [
       "<AxesSubplot:xlabel='workclass', ylabel='count'>"
      ]
     },
     "execution_count": 41,
     "metadata": {},
     "output_type": "execute_result"
    },
    {
     "data": {
      "image/png": "[encoded data removed]",
      "text/plain": [
       "<Figure size 720x360 with 1 Axes>"
      ]
     },
     "metadata": {
      "needs_background": "light"
     },
     "output_type": "display_data"
    }
   ],
   "source": [
    "# workclass\n",
    "fig = plt.figure(figsize=(10,5))\n",
    "sns.countplot(data=df, x='workclass', hue='income')"
   ]
  },
  {
   "cell_type": "code",
   "execution_count": 42,
   "metadata": {
    "id": "SysqFQzzO0UA"
   },
   "outputs": [
    {
     "data": {
      "text/plain": [
       "<AxesSubplot:xlabel='marital-status', ylabel='count'>"
      ]
     },
     "execution_count": 42,
     "metadata": {},
     "output_type": "execute_result"
    },
    {
     "data": {
      "image/png": "[encoded data removed]",
      "text/plain": [
       "<Figure size 1440x360 with 1 Axes>"
      ]
     },
     "metadata": {
      "needs_background": "light"
     },
     "output_type": "display_data"
    }
   ],
   "source": [
    "# marital-status\n",
    "fig = plt.figure(figsize=(20,5))\n",
    "sns.countplot(data=df, x='marital-status', hue='income')"
   ]
  },
  {
   "cell_type": "code",
   "execution_count": 43,
   "metadata": {
    "id": "71d7xQN7Nmd9"
   },
   "outputs": [
    {
     "data": {
      "text/plain": [
       "<AxesSubplot:xlabel='sex', ylabel='count'>"
      ]
     },
     "execution_count": 43,
     "metadata": {},
     "output_type": "execute_result"
    },
    {
     "data": {
      "image/png": "[encoded data removed]",
      "text/plain": [
       "<Figure size 720x360 with 1 Axes>"
      ]
     },
     "metadata": {
      "needs_background": "light"
     },
     "output_type": "display_data"
    }
   ],
   "source": [
    "# sex\n",
    "fig = plt.figure(figsize=(10,5))\n",
    "sns.countplot(data=df, x='sex', hue='income')"
   ]
  },
  {
   "cell_type": "code",
   "execution_count": 44,
   "metadata": {
    "id": "PjtzMwPI5Wa1"
   },
   "outputs": [
    {
     "data": {
      "text/html": [
       "<div>\n",
       "<style scoped>\n",
       "    .dataframe tbody tr th:only-of-type {\n",
       "        vertical-align: middle;\n",
       "    }\n",
       "\n",
       "    .dataframe tbody tr th {\n",
       "        vertical-align: top;\n",
       "    }\n",
       "\n",
       "    .dataframe thead th {\n",
       "        text-align: right;\n",
       "    }\n",
       "</style>\n",
       "<table border=\"1\" class=\"dataframe\">\n",
       "  <thead>\n",
       "    <tr style=\"text-align: right;\">\n",
       "      <th>sex</th>\n",
       "      <th>Female</th>\n",
       "      <th>Male</th>\n",
       "    </tr>\n",
       "    <tr>\n",
       "      <th>income</th>\n",
       "      <th></th>\n",
       "      <th></th>\n",
       "    </tr>\n",
       "  </thead>\n",
       "  <tbody>\n",
       "    <tr>\n",
       "      <th>&lt;=50K</th>\n",
       "      <td>13026</td>\n",
       "      <td>20988</td>\n",
       "    </tr>\n",
       "    <tr>\n",
       "      <th>&gt;50K</th>\n",
       "      <td>1669</td>\n",
       "      <td>9539</td>\n",
       "    </tr>\n",
       "  </tbody>\n",
       "</table>\n",
       "</div>"
      ],
      "text/plain": [
       "sex      Female   Male\n",
       "income                \n",
       " <=50K    13026  20988\n",
       " >50K      1669   9539"
      ]
     },
     "execution_count": 44,
     "metadata": {},
     "output_type": "execute_result"
    }
   ],
   "source": [
    "df_sex = pd.crosstab(df[\"income\"], df[\"sex\"])\n",
    "df_sex"
   ]
  },
  {
   "cell_type": "code",
   "execution_count": 45,
   "metadata": {
    "id": "5wZzIJcl6zRB"
   },
   "outputs": [
    {
     "data": {
      "text/plain": [
       "(0.11357604627424293, 0.31247747895305794)"
      ]
     },
     "execution_count": 45,
     "metadata": {},
     "output_type": "execute_result"
    }
   ],
   "source": [
    "np.count_nonzero((df['sex'].isin([' Female'])) & df['income'].isin([' >50K']))/np.count_nonzero((df['sex'].isin([' Female']))), np.count_nonzero((df['sex'].isin([' Male'])) & df['income'].isin([' >50K']))/np.count_nonzero((df['sex'].isin([' Male'])))"
   ]
  },
  {
   "cell_type": "markdown",
   "metadata": {
    "id": "A8-gnbzUTEtz"
   },
   "source": [
    "Average *education_num*:"
   ]
  },
  {
   "cell_type": "code",
   "execution_count": 46,
   "metadata": {
    "id": "fGRsnaLES5vl"
   },
   "outputs": [
    {
     "data": {
      "text/html": [
       "<div>\n",
       "<style scoped>\n",
       "    .dataframe tbody tr th:only-of-type {\n",
       "        vertical-align: middle;\n",
       "    }\n",
       "\n",
       "    .dataframe tbody tr th {\n",
       "        vertical-align: top;\n",
       "    }\n",
       "\n",
       "    .dataframe thead tr th {\n",
       "        text-align: left;\n",
       "    }\n",
       "\n",
       "    .dataframe thead tr:last-of-type th {\n",
       "        text-align: right;\n",
       "    }\n",
       "</style>\n",
       "<table border=\"1\" class=\"dataframe\">\n",
       "  <thead>\n",
       "    <tr>\n",
       "      <th></th>\n",
       "      <th colspan=\"7\" halign=\"left\">education-num</th>\n",
       "    </tr>\n",
       "    <tr>\n",
       "      <th>workclass</th>\n",
       "      <th>Federal-gov</th>\n",
       "      <th>Local-gov</th>\n",
       "      <th>Private</th>\n",
       "      <th>Self-emp-inc</th>\n",
       "      <th>Self-emp-not-inc</th>\n",
       "      <th>State-gov</th>\n",
       "      <th>Without-pay</th>\n",
       "    </tr>\n",
       "    <tr>\n",
       "      <th>income</th>\n",
       "      <th></th>\n",
       "      <th></th>\n",
       "      <th></th>\n",
       "      <th></th>\n",
       "      <th></th>\n",
       "      <th></th>\n",
       "      <th></th>\n",
       "    </tr>\n",
       "  </thead>\n",
       "  <tbody>\n",
       "    <tr>\n",
       "      <th>&lt;=50K</th>\n",
       "      <td>10.390898</td>\n",
       "      <td>10.550572</td>\n",
       "      <td>9.442739</td>\n",
       "      <td>10.235695</td>\n",
       "      <td>9.667519</td>\n",
       "      <td>10.827489</td>\n",
       "      <td>8.947368</td>\n",
       "    </tr>\n",
       "    <tr>\n",
       "      <th>&gt;50K</th>\n",
       "      <td>11.699454</td>\n",
       "      <td>12.163934</td>\n",
       "      <td>11.390291</td>\n",
       "      <td>11.948465</td>\n",
       "      <td>11.603399</td>\n",
       "      <td>12.786538</td>\n",
       "      <td>9.000000</td>\n",
       "    </tr>\n",
       "  </tbody>\n",
       "</table>\n",
       "</div>"
      ],
      "text/plain": [
       "          education-num                                                        \\\n",
       "workclass   Federal-gov  Local-gov    Private  Self-emp-inc  Self-emp-not-inc   \n",
       "income                                                                          \n",
       " <=50K        10.390898  10.550572   9.442739     10.235695          9.667519   \n",
       " >50K         11.699454  12.163934  11.390291     11.948465         11.603399   \n",
       "\n",
       "                                   \n",
       "workclass  State-gov  Without-pay  \n",
       "income                             \n",
       " <=50K     10.827489     8.947368  \n",
       " >50K      12.786538     9.000000  "
      ]
     },
     "execution_count": 46,
     "metadata": {},
     "output_type": "execute_result"
    }
   ],
   "source": [
    "# workclass\n",
    "edu_inc_wc = df.pivot_table(index = ['income'], columns = ['workclass'], values = ['education-num'], aggfunc = 'mean')\n",
    "edu_inc_wc"
   ]
  },
  {
   "cell_type": "code",
   "execution_count": 47,
   "metadata": {
    "id": "jaByWPVvWeRt"
   },
   "outputs": [
    {
     "data": {
      "image/png": "[encoded data removed]",
      "text/plain": [
       "<Figure size 432x288 with 1 Axes>"
      ]
     },
     "metadata": {
      "needs_background": "light"
     },
     "output_type": "display_data"
    }
   ],
   "source": [
    "edu_inc_wc_ax = edu_inc_wc.T.plot(kind='bar', xlabel='workclass', ylabel='education-num (Avg)')"
   ]
  },
  {
   "cell_type": "code",
   "execution_count": 48,
   "metadata": {
    "id": "HpJ5wG0cWqza"
   },
   "outputs": [
    {
     "data": {
      "text/html": [
       "<div>\n",
       "<style scoped>\n",
       "    .dataframe tbody tr th:only-of-type {\n",
       "        vertical-align: middle;\n",
       "    }\n",
       "\n",
       "    .dataframe tbody tr th {\n",
       "        vertical-align: top;\n",
       "    }\n",
       "\n",
       "    .dataframe thead tr th {\n",
       "        text-align: left;\n",
       "    }\n",
       "\n",
       "    .dataframe thead tr:last-of-type th {\n",
       "        text-align: right;\n",
       "    }\n",
       "</style>\n",
       "<table border=\"1\" class=\"dataframe\">\n",
       "  <thead>\n",
       "    <tr>\n",
       "      <th></th>\n",
       "      <th colspan=\"2\" halign=\"left\">education-num</th>\n",
       "    </tr>\n",
       "    <tr>\n",
       "      <th>sex</th>\n",
       "      <th>Female</th>\n",
       "      <th>Male</th>\n",
       "    </tr>\n",
       "    <tr>\n",
       "      <th>income</th>\n",
       "      <th></th>\n",
       "      <th></th>\n",
       "    </tr>\n",
       "  </thead>\n",
       "  <tbody>\n",
       "    <tr>\n",
       "      <th>&lt;=50K</th>\n",
       "      <td>9.882543</td>\n",
       "      <td>9.474509</td>\n",
       "    </tr>\n",
       "    <tr>\n",
       "      <th>&gt;50K</th>\n",
       "      <td>11.849011</td>\n",
       "      <td>11.554670</td>\n",
       "    </tr>\n",
       "  </tbody>\n",
       "</table>\n",
       "</div>"
      ],
      "text/plain": [
       "       education-num           \n",
       "sex           Female       Male\n",
       "income                         \n",
       " <=50K      9.882543   9.474509\n",
       " >50K      11.849011  11.554670"
      ]
     },
     "execution_count": 48,
     "metadata": {},
     "output_type": "execute_result"
    }
   ],
   "source": [
    "# sex\n",
    "edu_inc_sex = df.pivot_table(index = ['income'], columns = ['sex'], values = ['education-num'], aggfunc = 'mean')\n",
    "edu_inc_sex"
   ]
  },
  {
   "cell_type": "code",
   "execution_count": 49,
   "metadata": {
    "id": "QqyoFjakTe6u"
   },
   "outputs": [
    {
     "data": {
      "image/png": "[encoded data removed]",
      "text/plain": [
       "<Figure size 432x288 with 1 Axes>"
      ]
     },
     "metadata": {
      "needs_background": "light"
     },
     "output_type": "display_data"
    }
   ],
   "source": [
    "edu_inc_sex_ax = edu_inc_sex.T.plot(kind='bar', xlabel='sex', ylabel='education-num (Avg)')"
   ]
  },
  {
   "cell_type": "markdown",
   "metadata": {
    "id": "bhw46jHBXC97"
   },
   "source": [
    "Average hours-per-week:"
   ]
  },
  {
   "cell_type": "code",
   "execution_count": 50,
   "metadata": {
    "id": "11vc4mG3YYK2"
   },
   "outputs": [
    {
     "data": {
      "text/html": [
       "<div>\n",
       "<style scoped>\n",
       "    .dataframe tbody tr th:only-of-type {\n",
       "        vertical-align: middle;\n",
       "    }\n",
       "\n",
       "    .dataframe tbody tr th {\n",
       "        vertical-align: top;\n",
       "    }\n",
       "\n",
       "    .dataframe thead tr th {\n",
       "        text-align: left;\n",
       "    }\n",
       "\n",
       "    .dataframe thead tr:last-of-type th {\n",
       "        text-align: right;\n",
       "    }\n",
       "</style>\n",
       "<table border=\"1\" class=\"dataframe\">\n",
       "  <thead>\n",
       "    <tr>\n",
       "      <th></th>\n",
       "      <th colspan=\"7\" halign=\"left\">hours-per-week</th>\n",
       "    </tr>\n",
       "    <tr>\n",
       "      <th>marital-status</th>\n",
       "      <th>Divorced</th>\n",
       "      <th>Married-AF-spouse</th>\n",
       "      <th>Married-civ-spouse</th>\n",
       "      <th>Married-spouse-absent</th>\n",
       "      <th>Never-married</th>\n",
       "      <th>Separated</th>\n",
       "      <th>Widowed</th>\n",
       "    </tr>\n",
       "    <tr>\n",
       "      <th>income</th>\n",
       "      <th></th>\n",
       "      <th></th>\n",
       "      <th></th>\n",
       "      <th></th>\n",
       "      <th></th>\n",
       "      <th></th>\n",
       "      <th></th>\n",
       "    </tr>\n",
       "  </thead>\n",
       "  <tbody>\n",
       "    <tr>\n",
       "      <th>&lt;=50K</th>\n",
       "      <td>40.691421</td>\n",
       "      <td>41.166667</td>\n",
       "      <td>42.412758</td>\n",
       "      <td>39.236948</td>\n",
       "      <td>36.766065</td>\n",
       "      <td>39.523628</td>\n",
       "      <td>33.892734</td>\n",
       "    </tr>\n",
       "    <tr>\n",
       "      <th>&gt;50K</th>\n",
       "      <td>47.334351</td>\n",
       "      <td>44.357143</td>\n",
       "      <td>45.512024</td>\n",
       "      <td>48.185185</td>\n",
       "      <td>46.721826</td>\n",
       "      <td>45.919192</td>\n",
       "      <td>43.776860</td>\n",
       "    </tr>\n",
       "  </tbody>\n",
       "</table>\n",
       "</div>"
      ],
      "text/plain": [
       "               hours-per-week                                         \\\n",
       "marital-status       Divorced  Married-AF-spouse  Married-civ-spouse   \n",
       "income                                                                 \n",
       " <=50K              40.691421          41.166667           42.412758   \n",
       " >50K               47.334351          44.357143           45.512024   \n",
       "\n",
       "                                                                            \n",
       "marital-status  Married-spouse-absent  Never-married  Separated    Widowed  \n",
       "income                                                                      \n",
       " <=50K                      39.236948      36.766065  39.523628  33.892734  \n",
       " >50K                       48.185185      46.721826  45.919192  43.776860  "
      ]
     },
     "execution_count": 50,
     "metadata": {},
     "output_type": "execute_result"
    }
   ],
   "source": [
    "# marital-status\n",
    "hpw_inc_ms = df.pivot_table(index = ['income'], columns = ['marital-status'], values = ['hours-per-week'], aggfunc = 'mean')\n",
    "hpw_inc_ms"
   ]
  },
  {
   "cell_type": "code",
   "execution_count": 51,
   "metadata": {
    "id": "DsrK4wDuYX-p"
   },
   "outputs": [
    {
     "data": {
      "image/png": "[encoded data removed]",
      "text/plain": [
       "<Figure size 432x288 with 1 Axes>"
      ]
     },
     "metadata": {
      "needs_background": "light"
     },
     "output_type": "display_data"
    }
   ],
   "source": [
    "hpw_inc_ms_ax = hpw_inc_ms.T.plot(kind='bar', xlabel='marital-status', ylabel='hours-per-week (Avg)')"
   ]
  },
  {
   "cell_type": "code",
   "execution_count": 52,
   "metadata": {
    "id": "CVhc77tNVt9e"
   },
   "outputs": [
    {
     "data": {
      "text/html": [
       "<div>\n",
       "<style scoped>\n",
       "    .dataframe tbody tr th:only-of-type {\n",
       "        vertical-align: middle;\n",
       "    }\n",
       "\n",
       "    .dataframe tbody tr th {\n",
       "        vertical-align: top;\n",
       "    }\n",
       "\n",
       "    .dataframe thead tr th {\n",
       "        text-align: left;\n",
       "    }\n",
       "\n",
       "    .dataframe thead tr:last-of-type th {\n",
       "        text-align: right;\n",
       "    }\n",
       "</style>\n",
       "<table border=\"1\" class=\"dataframe\">\n",
       "  <thead>\n",
       "    <tr>\n",
       "      <th></th>\n",
       "      <th colspan=\"2\" halign=\"left\">hours-per-week</th>\n",
       "    </tr>\n",
       "    <tr>\n",
       "      <th>sex</th>\n",
       "      <th>Female</th>\n",
       "      <th>Male</th>\n",
       "    </tr>\n",
       "    <tr>\n",
       "      <th>income</th>\n",
       "      <th></th>\n",
       "      <th></th>\n",
       "    </tr>\n",
       "  </thead>\n",
       "  <tbody>\n",
       "    <tr>\n",
       "      <th>&lt;=50K</th>\n",
       "      <td>36.391678</td>\n",
       "      <td>41.221746</td>\n",
       "    </tr>\n",
       "    <tr>\n",
       "      <th>&gt;50K</th>\n",
       "      <td>41.156980</td>\n",
       "      <td>46.483699</td>\n",
       "    </tr>\n",
       "  </tbody>\n",
       "</table>\n",
       "</div>"
      ],
      "text/plain": [
       "       hours-per-week           \n",
       "sex            Female       Male\n",
       "income                          \n",
       " <=50K      36.391678  41.221746\n",
       " >50K       41.156980  46.483699"
      ]
     },
     "execution_count": 52,
     "metadata": {},
     "output_type": "execute_result"
    }
   ],
   "source": [
    "# sex\n",
    "hpw_inc_sex = df.pivot_table(index = ['income'], columns = ['sex'], values = ['hours-per-week'], aggfunc = 'mean')\n",
    "hpw_inc_sex"
   ]
  },
  {
   "cell_type": "code",
   "execution_count": 53,
   "metadata": {
    "id": "9zUAO1TJVt6M"
   },
   "outputs": [
    {
     "data": {
      "image/png": "[encoded data removed]",
      "text/plain": [
       "<Figure size 432x288 with 1 Axes>"
      ]
     },
     "metadata": {
      "needs_background": "light"
     },
     "output_type": "display_data"
    }
   ],
   "source": [
    "hpw_inc_sex_ax = hpw_inc_sex.T.plot(kind='bar', xlabel='sex', ylabel='hours-per-week (Avg)')"
   ]
  },
  {
   "cell_type": "code",
   "execution_count": null,
   "metadata": {
    "id": "AM5026hcVt2-"
   },
   "outputs": [],
   "source": []
  },
  {
   "cell_type": "code",
   "execution_count": null,
   "metadata": {
    "id": "x2qnTH0oVtzi"
   },
   "outputs": [],
   "source": []
  },
  {
   "cell_type": "code",
   "execution_count": null,
   "metadata": {
    "id": "KOGYIKRtVtv1"
   },
   "outputs": [],
   "source": []
  },
  {
   "cell_type": "markdown",
   "metadata": {
    "id": "LKVHEJ2nZ2Ms"
   },
   "source": [
    "## Model"
   ]
  },
  {
   "cell_type": "code",
   "execution_count": 54,
   "metadata": {
    "colab": {
     "base_uri": "https://localhost:8080/"
    },
    "id": "N_n4rSgyZ_eq",
    "outputId": "2096ba84-dd88-463a-c648-702b2234d9dd"
   },
   "outputs": [
    {
     "data": {
      "text/plain": [
       "0.8083585169897546"
      ]
     },
     "execution_count": 54,
     "metadata": {},
     "output_type": "execute_result"
    }
   ],
   "source": [
    "# Guanghan Xu ---- start\n",
    "\n",
    "#feature selection\n",
    "''' categorical features - a few are randomly selected as an illustration, those need to be explained and consistent with analysis above \n",
    "Please also make sure each categorical features has less than 5 unique values, otherwise below modeling part may not work well.'''\n",
    "cat_features_shortlisted=[\"marital-status\",'race','sex']\n",
    "num_features_shortlisted=['age',\"education-num\"] # numerical features - also randomly selected for an illustration, feel free to add/exclude \n",
    "\n",
    "\n",
    "#feature transformation\n",
    "categorical_transformer = OneHotEncoder(handle_unknown=\"ignore\")\n",
    "ct = ColumnTransformer([(\"cat\",categorical_transformer,cat_features_shortlisted)],remainder=\"passthrough\")\n",
    "X= df[cat_features_shortlisted+num_features_shortlisted]\n",
    "X_trans = ct.fit_transform(X)\n",
    "Y_trans = df['income'].replace(['<=50K', '>50K'], [0, 1], regex=True)\n",
    "\n",
    "\n",
    "#train model and scores\n",
    "neigh = KNeighborsClassifier(n_neighbors=10) # feel free to tweak n_neighbors or use the coding from assignment 4 until we have a good accuracy score\n",
    "X_train, X_test, Y_train, Y_test = train_test_split(X_trans, Y_trans, test_size=0.30,random_state=0)\n",
    "neigh.fit(X_train, Y_train)\n",
    "neigh.score(X_test, Y_test)\n",
    "\n",
    "# Guanghan Xu ---- end"
   ]
  },
  {
   "cell_type": "markdown",
   "metadata": {
    "id": "K0GrtzA89QI7"
   },
   "source": [
    "# Report v2"
   ]
  },
  {
   "cell_type": "markdown",
   "metadata": {
    "id": "2SFKoAoL9bdz"
   },
   "source": [
    "##Objectives"
   ]
  },
  {
   "cell_type": "markdown",
   "metadata": {
    "id": "BjzLgtRn9bd0"
   },
   "source": [
    "## Data Preparation"
   ]
  },
  {
   "cell_type": "code",
   "execution_count": 55,
   "metadata": {
    "id": "U7rF_0rU9bd0"
   },
   "outputs": [],
   "source": [
    "# import libraries\n",
    "import pandas as pd\n",
    "import matplotlib.pyplot as plt\n",
    "import seaborn as sns\n",
    "import numpy as np\n",
    "from sklearn.model_selection import train_test_split\n",
    "from sklearn.neighbors import KNeighborsClassifier\n",
    "from sklearn.metrics import accuracy_score, auc, roc_curve, roc_auc_score\n",
    "from sklearn.compose import ColumnTransformer\n",
    "from sklearn.preprocessing import StandardScaler, OneHotEncoder\n",
    "from sklearn.linear_model import LogisticRegressionCV"
   ]
  },
  {
   "cell_type": "code",
   "execution_count": 56,
   "metadata": {
    "id": "qmef71ll9bd0"
   },
   "outputs": [],
   "source": [
    "# load data\n",
    "df1 = pd.read_csv('http://archive.ics.uci.edu/ml/machine-learning-databases/adult/adult.data', header = None)\n",
    "df1.columns = ['age', 'workclass', 'fnlwgt', 'education', 'education-num', 'marital-status', 'occupation', 'relationship', 'race', 'sex', 'capital-gain', 'capital-loss', 'hours-per-week', 'native-country', 'income']\n",
    "\n",
    "df2 = pd.read_csv('http://archive.ics.uci.edu/ml/machine-learning-databases/adult/adult.test', sep= ',', header= None, skiprows=1)\n",
    "df2.columns = ['age', 'workclass', 'fnlwgt', 'education', 'education-num', 'marital-status', 'occupation', 'relationship', 'race', 'sex', 'capital-gain', 'capital-loss', 'hours-per-week', 'native-country', 'income']"
   ]
  },
  {
   "cell_type": "code",
   "execution_count": 57,
   "metadata": {
    "id": "J3RLBggP9bd1"
   },
   "outputs": [],
   "source": [
    "# combining test and data together \n",
    "df = pd.concat([df1, df2])"
   ]
  },
  {
   "cell_type": "code",
   "execution_count": 58,
   "metadata": {
    "id": "AcR1fl2a9bd1"
   },
   "outputs": [],
   "source": [
    "# make sure values are inputted the same\n",
    "df['income'] = df['income'].replace(['<=50K.', '>50K.'], ['<=50K', '>50K'], regex=True)"
   ]
  },
  {
   "cell_type": "code",
   "execution_count": 59,
   "metadata": {
    "id": "IV0l92Ee9bd1"
   },
   "outputs": [],
   "source": [
    "# replacing '?' values with NaN\n",
    "df = df.replace('[?]', np.nan, regex=True)"
   ]
  },
  {
   "cell_type": "code",
   "execution_count": 60,
   "metadata": {
    "colab": {
     "base_uri": "https://localhost:8080/"
    },
    "id": "a5m1gd7u9bd1",
    "outputId": "903999fc-4a7a-4382-a40c-03b3f0cdaf90"
   },
   "outputs": [
    {
     "name": "stdout",
     "output_type": "stream",
     "text": [
      "<class 'pandas.core.frame.DataFrame'>\n",
      "Int64Index: 48842 entries, 0 to 16280\n",
      "Data columns (total 15 columns):\n",
      " #   Column          Non-Null Count  Dtype \n",
      "---  ------          --------------  ----- \n",
      " 0   age             48842 non-null  int64 \n",
      " 1   workclass       46043 non-null  object\n",
      " 2   fnlwgt          48842 non-null  int64 \n",
      " 3   education       48842 non-null  object\n",
      " 4   education-num   48842 non-null  int64 \n",
      " 5   marital-status  48842 non-null  object\n",
      " 6   occupation      46033 non-null  object\n",
      " 7   relationship    48842 non-null  object\n",
      " 8   race            48842 non-null  object\n",
      " 9   sex             48842 non-null  object\n",
      " 10  capital-gain    48842 non-null  int64 \n",
      " 11  capital-loss    48842 non-null  int64 \n",
      " 12  hours-per-week  48842 non-null  int64 \n",
      " 13  native-country  47985 non-null  object\n",
      " 14  income          48842 non-null  object\n",
      "dtypes: int64(6), object(9)\n",
      "memory usage: 6.0+ MB\n"
     ]
    }
   ],
   "source": [
    "df.info()"
   ]
  },
  {
   "cell_type": "code",
   "execution_count": 61,
   "metadata": {
    "colab": {
     "base_uri": "https://localhost:8080/"
    },
    "id": "Z6rKiskb9bd2",
    "outputId": "096a2686-3896-4b7a-9be2-870f16462a7e"
   },
   "outputs": [
    {
     "data": {
      "text/plain": [
       "age                  0\n",
       "workclass         2799\n",
       "fnlwgt               0\n",
       "education            0\n",
       "education-num        0\n",
       "marital-status       0\n",
       "occupation        2809\n",
       "relationship         0\n",
       "race                 0\n",
       "sex                  0\n",
       "capital-gain         0\n",
       "capital-loss         0\n",
       "hours-per-week       0\n",
       "native-country     857\n",
       "income               0\n",
       "dtype: int64"
      ]
     },
     "execution_count": 61,
     "metadata": {},
     "output_type": "execute_result"
    }
   ],
   "source": [
    "# data information - NaN values\n",
    "df.isna().sum()"
   ]
  },
  {
   "cell_type": "code",
   "execution_count": 62,
   "metadata": {
    "colab": {
     "base_uri": "https://localhost:8080/"
    },
    "id": "wKxhJqYE9bd2",
    "outputId": "763823df-f63f-403a-a8ff-84daabb5499d"
   },
   "outputs": [
    {
     "data": {
      "text/plain": [
       "age               0\n",
       "workclass         0\n",
       "fnlwgt            0\n",
       "education         0\n",
       "education-num     0\n",
       "marital-status    0\n",
       "occupation        0\n",
       "relationship      0\n",
       "race              0\n",
       "sex               0\n",
       "capital-gain      0\n",
       "capital-loss      0\n",
       "hours-per-week    0\n",
       "native-country    0\n",
       "income            0\n",
       "dtype: int64"
      ]
     },
     "execution_count": 62,
     "metadata": {},
     "output_type": "execute_result"
    }
   ],
   "source": [
    "# dropping all NaN values\n",
    "df = df.dropna()\n",
    "df = df.dropna(axis=0)\n",
    "df.isna().sum()"
   ]
  },
  {
   "cell_type": "markdown",
   "metadata": {
    "id": "JPqCdKJmGhw6"
   },
   "source": [
    "Below attributes are excluded from this analysis:\n",
    "* fnlwgt\n",
    "* education\n",
    "* occupation\n",
    "* relationship\n",
    "* capital-gain\n",
    "* capital-loss\n",
    "* native-country"
   ]
  },
  {
   "cell_type": "code",
   "execution_count": 63,
   "metadata": {
    "colab": {
     "base_uri": "https://localhost:8080/",
     "height": 551
    },
    "id": "wSLSxJZoyFRW",
    "outputId": "4dc70fa7-7985-49b6-94ee-4afe5108ef47"
   },
   "outputs": [
    {
     "data": {
      "text/html": [
       "<div>\n",
       "<style scoped>\n",
       "    .dataframe tbody tr th:only-of-type {\n",
       "        vertical-align: middle;\n",
       "    }\n",
       "\n",
       "    .dataframe tbody tr th {\n",
       "        vertical-align: top;\n",
       "    }\n",
       "\n",
       "    .dataframe thead th {\n",
       "        text-align: right;\n",
       "    }\n",
       "</style>\n",
       "<table border=\"1\" class=\"dataframe\">\n",
       "  <thead>\n",
       "    <tr style=\"text-align: right;\">\n",
       "      <th></th>\n",
       "      <th>education</th>\n",
       "      <th>education-num</th>\n",
       "      <th>count</th>\n",
       "    </tr>\n",
       "  </thead>\n",
       "  <tbody>\n",
       "    <tr>\n",
       "      <th>15</th>\n",
       "      <td>Preschool</td>\n",
       "      <td>1</td>\n",
       "      <td>72</td>\n",
       "    </tr>\n",
       "    <tr>\n",
       "      <th>14</th>\n",
       "      <td>1st-4th</td>\n",
       "      <td>2</td>\n",
       "      <td>222</td>\n",
       "    </tr>\n",
       "    <tr>\n",
       "      <th>13</th>\n",
       "      <td>5th-6th</td>\n",
       "      <td>3</td>\n",
       "      <td>449</td>\n",
       "    </tr>\n",
       "    <tr>\n",
       "      <th>8</th>\n",
       "      <td>7th-8th</td>\n",
       "      <td>4</td>\n",
       "      <td>823</td>\n",
       "    </tr>\n",
       "    <tr>\n",
       "      <th>10</th>\n",
       "      <td>9th</td>\n",
       "      <td>5</td>\n",
       "      <td>676</td>\n",
       "    </tr>\n",
       "    <tr>\n",
       "      <th>7</th>\n",
       "      <td>10th</td>\n",
       "      <td>6</td>\n",
       "      <td>1223</td>\n",
       "    </tr>\n",
       "    <tr>\n",
       "      <th>5</th>\n",
       "      <td>11th</td>\n",
       "      <td>7</td>\n",
       "      <td>1619</td>\n",
       "    </tr>\n",
       "    <tr>\n",
       "      <th>11</th>\n",
       "      <td>12th</td>\n",
       "      <td>8</td>\n",
       "      <td>577</td>\n",
       "    </tr>\n",
       "    <tr>\n",
       "      <th>0</th>\n",
       "      <td>HS-grad</td>\n",
       "      <td>9</td>\n",
       "      <td>14783</td>\n",
       "    </tr>\n",
       "    <tr>\n",
       "      <th>1</th>\n",
       "      <td>Some-college</td>\n",
       "      <td>10</td>\n",
       "      <td>9899</td>\n",
       "    </tr>\n",
       "    <tr>\n",
       "      <th>4</th>\n",
       "      <td>Assoc-voc</td>\n",
       "      <td>11</td>\n",
       "      <td>1959</td>\n",
       "    </tr>\n",
       "    <tr>\n",
       "      <th>6</th>\n",
       "      <td>Assoc-acdm</td>\n",
       "      <td>12</td>\n",
       "      <td>1507</td>\n",
       "    </tr>\n",
       "    <tr>\n",
       "      <th>2</th>\n",
       "      <td>Bachelors</td>\n",
       "      <td>13</td>\n",
       "      <td>7570</td>\n",
       "    </tr>\n",
       "    <tr>\n",
       "      <th>3</th>\n",
       "      <td>Masters</td>\n",
       "      <td>14</td>\n",
       "      <td>2514</td>\n",
       "    </tr>\n",
       "    <tr>\n",
       "      <th>9</th>\n",
       "      <td>Prof-school</td>\n",
       "      <td>15</td>\n",
       "      <td>785</td>\n",
       "    </tr>\n",
       "    <tr>\n",
       "      <th>12</th>\n",
       "      <td>Doctorate</td>\n",
       "      <td>16</td>\n",
       "      <td>544</td>\n",
       "    </tr>\n",
       "  </tbody>\n",
       "</table>\n",
       "</div>"
      ],
      "text/plain": [
       "        education  education-num  count\n",
       "15      Preschool              1     72\n",
       "14        1st-4th              2    222\n",
       "13        5th-6th              3    449\n",
       "8         7th-8th              4    823\n",
       "10            9th              5    676\n",
       "7            10th              6   1223\n",
       "5            11th              7   1619\n",
       "11           12th              8    577\n",
       "0         HS-grad              9  14783\n",
       "1    Some-college             10   9899\n",
       "4       Assoc-voc             11   1959\n",
       "6      Assoc-acdm             12   1507\n",
       "2       Bachelors             13   7570\n",
       "3         Masters             14   2514\n",
       "9     Prof-school             15    785\n",
       "12      Doctorate             16    544"
      ]
     },
     "execution_count": 63,
     "metadata": {},
     "output_type": "execute_result"
    }
   ],
   "source": [
    "edu_ref = df[['education', 'education-num']].value_counts().reset_index(name='count').sort_values('education-num')\n",
    "edu_ref"
   ]
  },
  {
   "cell_type": "code",
   "execution_count": 64,
   "metadata": {
    "id": "DYFE6koP9bd3"
   },
   "outputs": [],
   "source": [
    "df = df.drop(['fnlwgt', 'education', 'relationship', 'capital-gain', 'capital-loss', 'native-country'], axis=1)"
   ]
  },
  {
   "cell_type": "code",
   "execution_count": 65,
   "metadata": {
    "colab": {
     "base_uri": "https://localhost:8080/"
    },
    "id": "yajQynA89bd3",
    "outputId": "b47eb3fd-0127-4723-ee30-8f684467d521"
   },
   "outputs": [
    {
     "name": "stdout",
     "output_type": "stream",
     "text": [
      "<class 'pandas.core.frame.DataFrame'>\n",
      "Int64Index: 45222 entries, 0 to 16280\n",
      "Data columns (total 9 columns):\n",
      " #   Column          Non-Null Count  Dtype \n",
      "---  ------          --------------  ----- \n",
      " 0   age             45222 non-null  int64 \n",
      " 1   workclass       45222 non-null  object\n",
      " 2   education-num   45222 non-null  int64 \n",
      " 3   marital-status  45222 non-null  object\n",
      " 4   occupation      45222 non-null  object\n",
      " 5   race            45222 non-null  object\n",
      " 6   sex             45222 non-null  object\n",
      " 7   hours-per-week  45222 non-null  int64 \n",
      " 8   income          45222 non-null  object\n",
      "dtypes: int64(3), object(6)\n",
      "memory usage: 3.5+ MB\n"
     ]
    }
   ],
   "source": [
    "# 45222 entries after removing NaN values\n",
    "df.info()"
   ]
  },
  {
   "cell_type": "code",
   "execution_count": 66,
   "metadata": {
    "colab": {
     "base_uri": "https://localhost:8080/",
     "height": 331
    },
    "id": "JdUA2AUX9bd3",
    "outputId": "4423e3e4-62e9-4c16-f516-550e2062cdba"
   },
   "outputs": [
    {
     "data": {
      "text/html": [
       "<div>\n",
       "<style scoped>\n",
       "    .dataframe tbody tr th:only-of-type {\n",
       "        vertical-align: middle;\n",
       "    }\n",
       "\n",
       "    .dataframe tbody tr th {\n",
       "        vertical-align: top;\n",
       "    }\n",
       "\n",
       "    .dataframe thead tr th {\n",
       "        text-align: left;\n",
       "    }\n",
       "\n",
       "    .dataframe thead tr:last-of-type th {\n",
       "        text-align: right;\n",
       "    }\n",
       "</style>\n",
       "<table border=\"1\" class=\"dataframe\">\n",
       "  <thead>\n",
       "    <tr>\n",
       "      <th></th>\n",
       "      <th>education-num</th>\n",
       "      <th>hours-per-week</th>\n",
       "    </tr>\n",
       "    <tr>\n",
       "      <th></th>\n",
       "      <th>mean</th>\n",
       "      <th>mean</th>\n",
       "    </tr>\n",
       "    <tr>\n",
       "      <th>age_bins</th>\n",
       "      <th></th>\n",
       "      <th></th>\n",
       "    </tr>\n",
       "  </thead>\n",
       "  <tbody>\n",
       "    <tr>\n",
       "      <th>(10, 20]</th>\n",
       "      <td>8.520553</td>\n",
       "      <td>28.096024</td>\n",
       "    </tr>\n",
       "    <tr>\n",
       "      <th>(20, 30]</th>\n",
       "      <td>10.119288</td>\n",
       "      <td>39.727418</td>\n",
       "    </tr>\n",
       "    <tr>\n",
       "      <th>(30, 40]</th>\n",
       "      <td>10.344317</td>\n",
       "      <td>43.485803</td>\n",
       "    </tr>\n",
       "    <tr>\n",
       "      <th>(40, 50]</th>\n",
       "      <td>10.589489</td>\n",
       "      <td>43.658158</td>\n",
       "    </tr>\n",
       "    <tr>\n",
       "      <th>(50, 60]</th>\n",
       "      <td>9.949254</td>\n",
       "      <td>42.749186</td>\n",
       "    </tr>\n",
       "    <tr>\n",
       "      <th>(60, 70]</th>\n",
       "      <td>9.602622</td>\n",
       "      <td>36.563291</td>\n",
       "    </tr>\n",
       "    <tr>\n",
       "      <th>(70, 80]</th>\n",
       "      <td>9.084291</td>\n",
       "      <td>28.275862</td>\n",
       "    </tr>\n",
       "  </tbody>\n",
       "</table>\n",
       "</div>"
      ],
      "text/plain": [
       "         education-num hours-per-week\n",
       "                  mean           mean\n",
       "age_bins                             \n",
       "(10, 20]      8.520553      28.096024\n",
       "(20, 30]     10.119288      39.727418\n",
       "(30, 40]     10.344317      43.485803\n",
       "(40, 50]     10.589489      43.658158\n",
       "(50, 60]      9.949254      42.749186\n",
       "(60, 70]      9.602622      36.563291\n",
       "(70, 80]      9.084291      28.275862"
      ]
     },
     "execution_count": 66,
     "metadata": {},
     "output_type": "execute_result"
    }
   ],
   "source": [
    "# making age bins to make the data easier to read\n",
    "df['age_bins'] = pd.cut(x=df['age'], bins=[10, 20, 30, 40, 50, 60, 70, 80])\n",
    "df.groupby('age_bins').agg({'education-num': ['mean'],\n",
    "                            'hours-per-week': ['mean']})\n"
   ]
  },
  {
   "cell_type": "markdown",
   "metadata": {
    "id": "Ox5T--vS9qrX"
   },
   "source": [
    "## Univariate Analysis"
   ]
  },
  {
   "cell_type": "code",
   "execution_count": 67,
   "metadata": {
    "colab": {
     "base_uri": "https://localhost:8080/",
     "height": 206
    },
    "id": "RvvglkQ59qrY",
    "outputId": "dd9b5eb3-2fd6-47b8-b695-79d98f82663a"
   },
   "outputs": [
    {
     "data": {
      "text/html": [
       "<div>\n",
       "<style scoped>\n",
       "    .dataframe tbody tr th:only-of-type {\n",
       "        vertical-align: middle;\n",
       "    }\n",
       "\n",
       "    .dataframe tbody tr th {\n",
       "        vertical-align: top;\n",
       "    }\n",
       "\n",
       "    .dataframe thead th {\n",
       "        text-align: right;\n",
       "    }\n",
       "</style>\n",
       "<table border=\"1\" class=\"dataframe\">\n",
       "  <thead>\n",
       "    <tr style=\"text-align: right;\">\n",
       "      <th></th>\n",
       "      <th>age</th>\n",
       "      <th>workclass</th>\n",
       "      <th>education-num</th>\n",
       "      <th>marital-status</th>\n",
       "      <th>occupation</th>\n",
       "      <th>race</th>\n",
       "      <th>sex</th>\n",
       "      <th>hours-per-week</th>\n",
       "      <th>income</th>\n",
       "      <th>age_bins</th>\n",
       "    </tr>\n",
       "  </thead>\n",
       "  <tbody>\n",
       "    <tr>\n",
       "      <th>0</th>\n",
       "      <td>39</td>\n",
       "      <td>State-gov</td>\n",
       "      <td>13</td>\n",
       "      <td>Never-married</td>\n",
       "      <td>Adm-clerical</td>\n",
       "      <td>White</td>\n",
       "      <td>Male</td>\n",
       "      <td>40</td>\n",
       "      <td>&lt;=50K</td>\n",
       "      <td>(30, 40]</td>\n",
       "    </tr>\n",
       "    <tr>\n",
       "      <th>1</th>\n",
       "      <td>50</td>\n",
       "      <td>Self-emp-not-inc</td>\n",
       "      <td>13</td>\n",
       "      <td>Married-civ-spouse</td>\n",
       "      <td>Exec-managerial</td>\n",
       "      <td>White</td>\n",
       "      <td>Male</td>\n",
       "      <td>13</td>\n",
       "      <td>&lt;=50K</td>\n",
       "      <td>(40, 50]</td>\n",
       "    </tr>\n",
       "    <tr>\n",
       "      <th>2</th>\n",
       "      <td>38</td>\n",
       "      <td>Private</td>\n",
       "      <td>9</td>\n",
       "      <td>Divorced</td>\n",
       "      <td>Handlers-cleaners</td>\n",
       "      <td>White</td>\n",
       "      <td>Male</td>\n",
       "      <td>40</td>\n",
       "      <td>&lt;=50K</td>\n",
       "      <td>(30, 40]</td>\n",
       "    </tr>\n",
       "    <tr>\n",
       "      <th>3</th>\n",
       "      <td>53</td>\n",
       "      <td>Private</td>\n",
       "      <td>7</td>\n",
       "      <td>Married-civ-spouse</td>\n",
       "      <td>Handlers-cleaners</td>\n",
       "      <td>Black</td>\n",
       "      <td>Male</td>\n",
       "      <td>40</td>\n",
       "      <td>&lt;=50K</td>\n",
       "      <td>(50, 60]</td>\n",
       "    </tr>\n",
       "    <tr>\n",
       "      <th>4</th>\n",
       "      <td>28</td>\n",
       "      <td>Private</td>\n",
       "      <td>13</td>\n",
       "      <td>Married-civ-spouse</td>\n",
       "      <td>Prof-specialty</td>\n",
       "      <td>Black</td>\n",
       "      <td>Female</td>\n",
       "      <td>40</td>\n",
       "      <td>&lt;=50K</td>\n",
       "      <td>(20, 30]</td>\n",
       "    </tr>\n",
       "  </tbody>\n",
       "</table>\n",
       "</div>"
      ],
      "text/plain": [
       "   age          workclass  education-num       marital-status  \\\n",
       "0   39          State-gov             13        Never-married   \n",
       "1   50   Self-emp-not-inc             13   Married-civ-spouse   \n",
       "2   38            Private              9             Divorced   \n",
       "3   53            Private              7   Married-civ-spouse   \n",
       "4   28            Private             13   Married-civ-spouse   \n",
       "\n",
       "           occupation    race      sex  hours-per-week  income  age_bins  \n",
       "0        Adm-clerical   White     Male              40   <=50K  (30, 40]  \n",
       "1     Exec-managerial   White     Male              13   <=50K  (40, 50]  \n",
       "2   Handlers-cleaners   White     Male              40   <=50K  (30, 40]  \n",
       "3   Handlers-cleaners   Black     Male              40   <=50K  (50, 60]  \n",
       "4      Prof-specialty   Black   Female              40   <=50K  (20, 30]  "
      ]
     },
     "execution_count": 67,
     "metadata": {},
     "output_type": "execute_result"
    }
   ],
   "source": [
    "df.head()"
   ]
  },
  {
   "cell_type": "code",
   "execution_count": 68,
   "metadata": {
    "colab": {
     "base_uri": "https://localhost:8080/",
     "height": 300
    },
    "id": "yYUf645Z9qrY",
    "outputId": "5c636b8b-efcc-491b-8ea3-6db2a4d98b9c"
   },
   "outputs": [
    {
     "data": {
      "text/html": [
       "<div>\n",
       "<style scoped>\n",
       "    .dataframe tbody tr th:only-of-type {\n",
       "        vertical-align: middle;\n",
       "    }\n",
       "\n",
       "    .dataframe tbody tr th {\n",
       "        vertical-align: top;\n",
       "    }\n",
       "\n",
       "    .dataframe thead th {\n",
       "        text-align: right;\n",
       "    }\n",
       "</style>\n",
       "<table border=\"1\" class=\"dataframe\">\n",
       "  <thead>\n",
       "    <tr style=\"text-align: right;\">\n",
       "      <th></th>\n",
       "      <th>age</th>\n",
       "      <th>education-num</th>\n",
       "      <th>hours-per-week</th>\n",
       "    </tr>\n",
       "  </thead>\n",
       "  <tbody>\n",
       "    <tr>\n",
       "      <th>count</th>\n",
       "      <td>45222.000000</td>\n",
       "      <td>45222.000000</td>\n",
       "      <td>45222.000000</td>\n",
       "    </tr>\n",
       "    <tr>\n",
       "      <th>mean</th>\n",
       "      <td>38.547941</td>\n",
       "      <td>10.118460</td>\n",
       "      <td>40.938017</td>\n",
       "    </tr>\n",
       "    <tr>\n",
       "      <th>std</th>\n",
       "      <td>13.217870</td>\n",
       "      <td>2.552881</td>\n",
       "      <td>12.007508</td>\n",
       "    </tr>\n",
       "    <tr>\n",
       "      <th>min</th>\n",
       "      <td>17.000000</td>\n",
       "      <td>1.000000</td>\n",
       "      <td>1.000000</td>\n",
       "    </tr>\n",
       "    <tr>\n",
       "      <th>25%</th>\n",
       "      <td>28.000000</td>\n",
       "      <td>9.000000</td>\n",
       "      <td>40.000000</td>\n",
       "    </tr>\n",
       "    <tr>\n",
       "      <th>50%</th>\n",
       "      <td>37.000000</td>\n",
       "      <td>10.000000</td>\n",
       "      <td>40.000000</td>\n",
       "    </tr>\n",
       "    <tr>\n",
       "      <th>75%</th>\n",
       "      <td>47.000000</td>\n",
       "      <td>13.000000</td>\n",
       "      <td>45.000000</td>\n",
       "    </tr>\n",
       "    <tr>\n",
       "      <th>max</th>\n",
       "      <td>90.000000</td>\n",
       "      <td>16.000000</td>\n",
       "      <td>99.000000</td>\n",
       "    </tr>\n",
       "  </tbody>\n",
       "</table>\n",
       "</div>"
      ],
      "text/plain": [
       "                age  education-num  hours-per-week\n",
       "count  45222.000000   45222.000000    45222.000000\n",
       "mean      38.547941      10.118460       40.938017\n",
       "std       13.217870       2.552881       12.007508\n",
       "min       17.000000       1.000000        1.000000\n",
       "25%       28.000000       9.000000       40.000000\n",
       "50%       37.000000      10.000000       40.000000\n",
       "75%       47.000000      13.000000       45.000000\n",
       "max       90.000000      16.000000       99.000000"
      ]
     },
     "execution_count": 68,
     "metadata": {},
     "output_type": "execute_result"
    }
   ],
   "source": [
    "df.describe()"
   ]
  },
  {
   "cell_type": "markdown",
   "metadata": {
    "id": "FxyE-Vgx9qrY"
   },
   "source": [
    "### *age*:\n",
    "\n",
    "*age* attribute is right-skewed (Figure 1) with approximately 87.14% of the population aged 20 to 60. It perfectly aligns with the labour force age patterns."
   ]
  },
  {
   "cell_type": "code",
   "execution_count": 69,
   "metadata": {
    "colab": {
     "base_uri": "https://localhost:8080/"
    },
    "id": "M8P_nPAd9qra",
    "outputId": "0da32a84-25ca-4286-cf3d-1b6fb23d499d"
   },
   "outputs": [
    {
     "name": "stdout",
     "output_type": "stream",
     "text": [
      "(10, 20]    0.065632\n",
      "(20, 30]    0.249701\n",
      "(30, 40]    0.271792\n",
      "(40, 50]    0.220910\n",
      "(50, 60]    0.128986\n",
      "(60, 70]    0.048914\n",
      "(70, 80]    0.011543\n",
      "Name: age_bins, dtype: float64\n"
     ]
    }
   ],
   "source": [
    "# age group distribution\n",
    "print(df['age_bins'].value_counts().sort_index(ascending=True)/len(df))"
   ]
  },
  {
   "cell_type": "code",
   "execution_count": 70,
   "metadata": {
    "colab": {
     "base_uri": "https://localhost:8080/"
    },
    "id": "Jy2gMJORmoHx",
    "outputId": "644cf3a2-51be-43fd-a4df-b047888f4cd8"
   },
   "outputs": [
    {
     "name": "stdout",
     "output_type": "stream",
     "text": [
      "0.8713900314006457\n"
     ]
    }
   ],
   "source": [
    "# percentage of the population aged 20 to 60\n",
    "print(df[(df['age'] > 20) & (df['age'] <= 60)].shape[0]/len(df))"
   ]
  },
  {
   "cell_type": "code",
   "execution_count": 71,
   "metadata": {
    "colab": {
     "base_uri": "https://localhost:8080/"
    },
    "id": "f7L0FDOmD3OE",
    "outputId": "7962420c-7fad-4755-df67-57b3907559bb"
   },
   "outputs": [
    {
     "data": {
      "text/plain": [
       "(38.44570081705881, 38.650181717990506)"
      ]
     },
     "execution_count": 71,
     "metadata": {},
     "output_type": "execute_result"
    }
   ],
   "source": [
    "#determineconfidence mean interval of population within 90% \n",
    "import scipy.stats as st\n",
    "st.t.interval(alpha=0.90, df=len(df['age'])-1, loc=np.mean(df['age']), scale=st.sem(df['age']))"
   ]
  },
  {
   "cell_type": "markdown",
   "metadata": {
    "id": "KXgx0qm7F74R"
   },
   "source": []
  },
  {
   "cell_type": "code",
   "execution_count": 72,
   "metadata": {
    "colab": {
     "base_uri": "https://localhost:8080/",
     "height": 350
    },
    "id": "6Ql15gom9qrc",
    "outputId": "e40c1ab9-2dec-415e-8ad0-befe6c8aed89"
   },
   "outputs": [
    {
     "data": {
      "image/png": "[encoded data removed]",
      "text/plain": [
       "<Figure size 720x360 with 1 Axes>"
      ]
     },
     "metadata": {
      "needs_background": "light"
     },
     "output_type": "display_data"
    }
   ],
   "source": [
    "# Age plot\n",
    "fig = plt.figure(figsize=(10,5))\n",
    "sns.countplot(data=df, x='age_bins').set(title='Figure 3 Age Group Distribution', xlabel='Age by Group', ylabel='Number of Instances');"
   ]
  },
  {
   "cell_type": "markdown",
   "metadata": {
    "id": "OEPPpmwcv4IG"
   },
   "source": [
    "### *workclass*:"
   ]
  },
  {
   "cell_type": "markdown",
   "metadata": {
    "id": "_KxfWNCz9qrd"
   },
   "source": [
    "This dataset categorized its *occupations* data into 7 different types of *workclass*. About 73.65% of the population work in 'Private' sector."
   ]
  },
  {
   "cell_type": "code",
   "execution_count": 73,
   "metadata": {
    "colab": {
     "base_uri": "https://localhost:8080/"
    },
    "id": "5D71cTOS9qrd",
    "outputId": "9a72d3fe-59e4-452d-bdcb-bb2a8426269f"
   },
   "outputs": [
    {
     "name": "stdout",
     "output_type": "stream",
     "text": [
      " Private             0.736522\n",
      " Self-emp-not-inc    0.083941\n",
      " Local-gov           0.068551\n",
      " State-gov           0.043032\n",
      " Self-emp-inc        0.036398\n",
      " Federal-gov         0.031091\n",
      " Without-pay         0.000464\n",
      "Name: workclass, dtype: float64\n"
     ]
    }
   ],
   "source": [
    "# workclass distribution\n",
    "print(df['workclass'].value_counts()/len(df))"
   ]
  },
  {
   "cell_type": "code",
   "execution_count": 74,
   "metadata": {
    "colab": {
     "base_uri": "https://localhost:8080/",
     "height": 350
    },
    "id": "fRvtbXGp9qre",
    "outputId": "884a35f4-8c37-423f-af4a-2d5d45990400"
   },
   "outputs": [
    {
     "data": {
      "image/png": "[encoded data removed]",
      "text/plain": [
       "<Figure size 720x360 with 1 Axes>"
      ]
     },
     "metadata": {
      "needs_background": "light"
     },
     "output_type": "display_data"
    }
   ],
   "source": [
    "# workclass plot\n",
    "fig = plt.figure(figsize=(10,5))\n",
    "sns.countplot(data=df, x='workclass').set(title='Figure 6 Working Class Distribution', xlabel='Work Class Category', ylabel='Number of Instances');"
   ]
  },
  {
   "cell_type": "markdown",
   "metadata": {
    "id": "POPb9_vx9qre"
   },
   "source": [
    "### *education-num*:"
   ]
  },
  {
   "cell_type": "markdown",
   "metadata": {
    "id": "MUKRsh_awMTC"
   },
   "source": [
    "*education_num* represents people's education level. According to the reference table below, approximately 32.69% of the population earned their high school diploma. \n",
    "\n",
    "1.20% of the population obtains a doctoral degree, while 0.16% of the population only completed their *preschool*."
   ]
  },
  {
   "cell_type": "code",
   "execution_count": 75,
   "metadata": {
    "colab": {
     "base_uri": "https://localhost:8080/"
    },
    "id": "Bafq7kLqyvDm",
    "outputId": "f43fd8d8-2a98-40b1-e87c-cae2a67453c5"
   },
   "outputs": [
    {
     "data": {
      "text/html": [
       "<div>\n",
       "<style scoped>\n",
       "    .dataframe tbody tr th:only-of-type {\n",
       "        vertical-align: middle;\n",
       "    }\n",
       "\n",
       "    .dataframe tbody tr th {\n",
       "        vertical-align: top;\n",
       "    }\n",
       "\n",
       "    .dataframe thead th {\n",
       "        text-align: right;\n",
       "    }\n",
       "</style>\n",
       "<table border=\"1\" class=\"dataframe\">\n",
       "  <thead>\n",
       "    <tr style=\"text-align: right;\">\n",
       "      <th></th>\n",
       "      <th>education</th>\n",
       "      <th>education-num</th>\n",
       "      <th>count</th>\n",
       "    </tr>\n",
       "  </thead>\n",
       "  <tbody>\n",
       "    <tr>\n",
       "      <th>15</th>\n",
       "      <td>Preschool</td>\n",
       "      <td>1</td>\n",
       "      <td>72</td>\n",
       "    </tr>\n",
       "    <tr>\n",
       "      <th>14</th>\n",
       "      <td>1st-4th</td>\n",
       "      <td>2</td>\n",
       "      <td>222</td>\n",
       "    </tr>\n",
       "    <tr>\n",
       "      <th>13</th>\n",
       "      <td>5th-6th</td>\n",
       "      <td>3</td>\n",
       "      <td>449</td>\n",
       "    </tr>\n",
       "    <tr>\n",
       "      <th>8</th>\n",
       "      <td>7th-8th</td>\n",
       "      <td>4</td>\n",
       "      <td>823</td>\n",
       "    </tr>\n",
       "    <tr>\n",
       "      <th>10</th>\n",
       "      <td>9th</td>\n",
       "      <td>5</td>\n",
       "      <td>676</td>\n",
       "    </tr>\n",
       "    <tr>\n",
       "      <th>7</th>\n",
       "      <td>10th</td>\n",
       "      <td>6</td>\n",
       "      <td>1223</td>\n",
       "    </tr>\n",
       "    <tr>\n",
       "      <th>5</th>\n",
       "      <td>11th</td>\n",
       "      <td>7</td>\n",
       "      <td>1619</td>\n",
       "    </tr>\n",
       "    <tr>\n",
       "      <th>11</th>\n",
       "      <td>12th</td>\n",
       "      <td>8</td>\n",
       "      <td>577</td>\n",
       "    </tr>\n",
       "    <tr>\n",
       "      <th>0</th>\n",
       "      <td>HS-grad</td>\n",
       "      <td>9</td>\n",
       "      <td>14783</td>\n",
       "    </tr>\n",
       "    <tr>\n",
       "      <th>1</th>\n",
       "      <td>Some-college</td>\n",
       "      <td>10</td>\n",
       "      <td>9899</td>\n",
       "    </tr>\n",
       "    <tr>\n",
       "      <th>4</th>\n",
       "      <td>Assoc-voc</td>\n",
       "      <td>11</td>\n",
       "      <td>1959</td>\n",
       "    </tr>\n",
       "    <tr>\n",
       "      <th>6</th>\n",
       "      <td>Assoc-acdm</td>\n",
       "      <td>12</td>\n",
       "      <td>1507</td>\n",
       "    </tr>\n",
       "    <tr>\n",
       "      <th>2</th>\n",
       "      <td>Bachelors</td>\n",
       "      <td>13</td>\n",
       "      <td>7570</td>\n",
       "    </tr>\n",
       "    <tr>\n",
       "      <th>3</th>\n",
       "      <td>Masters</td>\n",
       "      <td>14</td>\n",
       "      <td>2514</td>\n",
       "    </tr>\n",
       "    <tr>\n",
       "      <th>9</th>\n",
       "      <td>Prof-school</td>\n",
       "      <td>15</td>\n",
       "      <td>785</td>\n",
       "    </tr>\n",
       "    <tr>\n",
       "      <th>12</th>\n",
       "      <td>Doctorate</td>\n",
       "      <td>16</td>\n",
       "      <td>544</td>\n",
       "    </tr>\n",
       "  </tbody>\n",
       "</table>\n",
       "</div>"
      ],
      "text/plain": [
       "        education  education-num  count\n",
       "15      Preschool              1     72\n",
       "14        1st-4th              2    222\n",
       "13        5th-6th              3    449\n",
       "8         7th-8th              4    823\n",
       "10            9th              5    676\n",
       "7            10th              6   1223\n",
       "5            11th              7   1619\n",
       "11           12th              8    577\n",
       "0         HS-grad              9  14783\n",
       "1    Some-college             10   9899\n",
       "4       Assoc-voc             11   1959\n",
       "6      Assoc-acdm             12   1507\n",
       "2       Bachelors             13   7570\n",
       "3         Masters             14   2514\n",
       "9     Prof-school             15    785\n",
       "12      Doctorate             16    544"
      ]
     },
     "metadata": {},
     "output_type": "display_data"
    }
   ],
   "source": [
    "display(edu_ref)"
   ]
  },
  {
   "cell_type": "code",
   "execution_count": 76,
   "metadata": {
    "colab": {
     "base_uri": "https://localhost:8080/"
    },
    "id": "jE5gdC8h9qrf",
    "outputId": "f54cae0f-5a0e-4f64-f6aa-b2ce18083ec5"
   },
   "outputs": [
    {
     "name": "stdout",
     "output_type": "stream",
     "text": [
      "1     0.001592\n",
      "2     0.004909\n",
      "3     0.009929\n",
      "4     0.018199\n",
      "5     0.014948\n",
      "6     0.027044\n",
      "7     0.035801\n",
      "8     0.012759\n",
      "9     0.326898\n",
      "10    0.218898\n",
      "11    0.043320\n",
      "12    0.033324\n",
      "13    0.167396\n",
      "14    0.055592\n",
      "15    0.017359\n",
      "16    0.012030\n",
      "Name: education-num, dtype: float64\n"
     ]
    }
   ],
   "source": [
    "# education_num distribution\n",
    "print(df['education-num'].value_counts().sort_index(ascending=True)/len(df))"
   ]
  },
  {
   "cell_type": "code",
   "execution_count": 77,
   "metadata": {
    "colab": {
     "base_uri": "https://localhost:8080/",
     "height": 350
    },
    "id": "8RW7n-he9qrf",
    "outputId": "08bf8121-00c0-48c4-e981-4c2092e870ad"
   },
   "outputs": [
    {
     "data": {
      "image/png": "[encoded data removed]",
      "text/plain": [
       "<Figure size 720x360 with 1 Axes>"
      ]
     },
     "metadata": {
      "needs_background": "light"
     },
     "output_type": "display_data"
    }
   ],
   "source": [
    "# education_num plot\n",
    "fig = plt.figure(figsize=(10,5))\n",
    "sns.countplot(data=df, x='education-num').set(title='Figure 4 Years of Education Distribution', xlabel='Years of Education', ylabel='Number of Instances')\n",
    "plt.show();"
   ]
  },
  {
   "cell_type": "code",
   "execution_count": 78,
   "metadata": {
    "colab": {
     "base_uri": "https://localhost:8080/",
     "height": 403
    },
    "id": "rMp9MpdGGKMy",
    "outputId": "9862f165-06fc-42d9-cd0f-054f5f8851af"
   },
   "outputs": [
    {
     "data": {
      "text/plain": [
       "<Figure size 720x360 with 0 Axes>"
      ]
     },
     "metadata": {},
     "output_type": "display_data"
    },
    {
     "data": {
      "image/png": "[encoded data removed]",
      "text/plain": [
       "<Figure size 360x360 with 1 Axes>"
      ]
     },
     "metadata": {
      "needs_background": "light"
     },
     "output_type": "display_data"
    }
   ],
   "source": [
    "# hours worked in a week plot\n",
    "fig = plt.figure(figsize=(10,5))\n",
    "sns.displot(df['hours-per-week']).set(title='Figure 5 Hours Worked in a Week Distribution', xlabel='Hours Worked/Week', ylabel='Number of Instances')\n",
    "plt.show();"
   ]
  },
  {
   "cell_type": "markdown",
   "metadata": {
    "id": "y3LGdOFF9qrg"
   },
   "source": [
    "### *marital-status*:"
   ]
  },
  {
   "cell_type": "markdown",
   "metadata": {
    "id": "OaKPwari4Ats"
   },
   "source": [
    "This attribute contains 7 different types of *marital-status*. Approximately 46.56% of the population are identified as *Married-civ-spouse*, and about 32.38% of the population are never married."
   ]
  },
  {
   "cell_type": "code",
   "execution_count": 79,
   "metadata": {
    "colab": {
     "base_uri": "https://localhost:8080/"
    },
    "id": "nGARGC2s9qrg",
    "outputId": "e5fe82e2-6277-4a54-b3f3-0a74d0bd5834"
   },
   "outputs": [
    {
     "name": "stdout",
     "output_type": "stream",
     "text": [
      " Married-civ-spouse       0.465592\n",
      " Never-married            0.322807\n",
      " Divorced                 0.139246\n",
      " Separated                0.031202\n",
      " Widowed                  0.028238\n",
      " Married-spouse-absent    0.012206\n",
      " Married-AF-spouse        0.000708\n",
      "Name: marital-status, dtype: float64\n"
     ]
    }
   ],
   "source": [
    "# marital-status distribution\n",
    "print(df['marital-status'].value_counts()/len(df))"
   ]
  },
  {
   "cell_type": "code",
   "execution_count": 80,
   "metadata": {
    "colab": {
     "base_uri": "https://localhost:8080/",
     "height": 430
    },
    "id": "yRPNmqpx9qrg",
    "outputId": "a9d05d7a-3acd-4d83-afc6-56230d4b0825"
   },
   "outputs": [
    {
     "data": {
      "image/png": "[encoded data removed]",
      "text/plain": [
       "<Figure size 576x360 with 1 Axes>"
      ]
     },
     "metadata": {
      "needs_background": "light"
     },
     "output_type": "display_data"
    }
   ],
   "source": [
    "# marital-status plot\n",
    "fig = plt.figure(figsize=(8,5))\n",
    "sns.countplot(data=df, x='marital-status').set(title='Figure 9 Marital Status Distribution', xlabel='Marital Status', ylabel='Number of Instances')\n",
    "plt.xticks(rotation=45, horizontalalignment='right');"
   ]
  },
  {
   "cell_type": "markdown",
   "metadata": {
    "id": "Rdwh78g29qrg"
   },
   "source": [
    "### *sex*:"
   ]
  },
  {
   "cell_type": "markdown",
   "metadata": {
    "id": "J1NRdxXb5YFv"
   },
   "source": [
    "According to the gender distribution, 67.50% of the population are male while only 32.50% of the population are female."
   ]
  },
  {
   "cell_type": "code",
   "execution_count": 81,
   "metadata": {
    "colab": {
     "base_uri": "https://localhost:8080/"
    },
    "id": "hy1NY5Ac9qrh",
    "outputId": "bd9b430d-f16c-4cfb-a17f-467dd41e4549"
   },
   "outputs": [
    {
     "name": "stdout",
     "output_type": "stream",
     "text": [
      " Male      0.675048\n",
      " Female    0.324952\n",
      "Name: sex, dtype: float64\n"
     ]
    }
   ],
   "source": [
    "# sex distribution\n",
    "print(df['sex'].value_counts()/len(df))"
   ]
  },
  {
   "cell_type": "code",
   "execution_count": 82,
   "metadata": {
    "colab": {
     "base_uri": "https://localhost:8080/",
     "height": 350
    },
    "id": "t7ml33zj9qrh",
    "outputId": "8c8269e3-a93e-4247-d070-a0efafe38ae3"
   },
   "outputs": [
    {
     "data": {
      "image/png": "[encoded data removed]",
      "text/plain": [
       "<Figure size 360x360 with 1 Axes>"
      ]
     },
     "metadata": {
      "needs_background": "light"
     },
     "output_type": "display_data"
    }
   ],
   "source": [
    "# sex plot\n",
    "fig = plt.figure(figsize=(5,5))\n",
    "sns.countplot(data=df, x='sex').set(title='Figure 7 Gender Distribution', xlabel='Gender', ylabel='Number of Instances');"
   ]
  },
  {
   "cell_type": "code",
   "execution_count": 83,
   "metadata": {
    "colab": {
     "base_uri": "https://localhost:8080/"
    },
    "id": "IiXmZ5PYJhU7",
    "outputId": "de0ded2a-af79-40e6-82be-ed9ed6bade61"
   },
   "outputs": [
    {
     "data": {
      "text/plain": [
       "sex      occupation          income\n",
       " Female   Adm-clerical        <=50K     91.796247\n",
       "                              >50K       8.203753\n",
       "          Craft-repair        <=50K     89.841270\n",
       "                              >50K      10.158730\n",
       "          Exec-managerial     <=50K     75.812065\n",
       "                              >50K      24.187935\n",
       "          Farming-fishing     <=50K     96.842105\n",
       "                              >50K       3.157895\n",
       "          Handlers-cleaners   <=50K     96.837945\n",
       "                              >50K       3.162055\n",
       "          Machine-op-inspct   <=50K     96.469105\n",
       "                              >50K       3.530895\n",
       "          Other-service       <=50K     97.199092\n",
       "                              >50K       2.800908\n",
       "          Priv-house-serv     <=50K     98.623853\n",
       "                              >50K       1.376147\n",
       "          Prof-specialty      <=50K     74.035406\n",
       "                              >50K      25.964594\n",
       "          Protective-serv     <=50K     87.704918\n",
       "                              >50K      12.295082\n",
       "          Sales               <=50K     93.076523\n",
       "                              >50K       6.923477\n",
       "          Tech-support        <=50K     88.267148\n",
       "                              >50K      11.732852\n",
       "          Transport-moving    <=50K     89.600000\n",
       "                              >50K      10.400000\n",
       " Male     Adm-clerical        <=50K     75.138122\n",
       "                              >50K      24.861878\n",
       "          Armed-Forces        <=50K     71.428571\n",
       "                              >50K      28.571429\n",
       "          Craft-repair        <=50K     76.809816\n",
       "                              >50K      23.190184\n",
       "          Exec-managerial     >50K      57.511737\n",
       "                              <=50K     42.488263\n",
       "          Farming-fishing     <=50K     87.797834\n",
       "                              >50K      12.202166\n",
       "          Handlers-cleaners   <=50K     92.916899\n",
       "                              >50K       7.083101\n",
       "          Machine-op-inspct   <=50K     84.519982\n",
       "                              >50K      15.480018\n",
       "          Other-service       <=50K     94.367498\n",
       "                              >50K       5.632502\n",
       "          Priv-house-serv     <=50K    100.000000\n",
       "          Prof-specialty      >50K      56.031537\n",
       "                              <=50K     43.968463\n",
       "          Protective-serv     <=50K     65.807963\n",
       "                              >50K      34.192037\n",
       "          Sales               <=50K     62.087755\n",
       "                              >50K      37.912245\n",
       "          Tech-support        <=50K     60.046189\n",
       "                              >50K      39.953811\n",
       "          Transport-moving    <=50K     78.776814\n",
       "                              >50K      21.223186\n",
       "dtype: float64"
      ]
     },
     "execution_count": 83,
     "metadata": {},
     "output_type": "execute_result"
    }
   ],
   "source": [
    "#gender's role in income \n",
    "df[['sex','income','occupation']].value_counts()/df[['sex','occupation']].value_counts()*100"
   ]
  },
  {
   "cell_type": "markdown",
   "metadata": {
    "id": "8aMiPFdO9qrh"
   },
   "source": [
    "### *income*:"
   ]
  },
  {
   "cell_type": "markdown",
   "metadata": {
    "id": "9SkmdgDM6IRj"
   },
   "source": [
    "*income*, the target attribute of this analysis, is skewed towards the population who earns less than 50K (75.22%)."
   ]
  },
  {
   "cell_type": "code",
   "execution_count": 84,
   "metadata": {
    "colab": {
     "base_uri": "https://localhost:8080/"
    },
    "id": "aHpfC4NO9qri",
    "outputId": "8b577bbd-e15a-4a87-b44e-4269b1d1c14b"
   },
   "outputs": [
    {
     "name": "stdout",
     "output_type": "stream",
     "text": [
      " <=50K    0.752156\n",
      " >50K     0.247844\n",
      "Name: income, dtype: float64\n"
     ]
    }
   ],
   "source": [
    "print(df['income'].value_counts()/len(df))"
   ]
  },
  {
   "cell_type": "code",
   "execution_count": 85,
   "metadata": {
    "colab": {
     "base_uri": "https://localhost:8080/"
    },
    "id": "_gNtVF489qri",
    "outputId": "1dd2f7e0-9dbd-43fb-a680-e9cd09fb0485"
   },
   "outputs": [
    {
     "data": {
      "text/plain": [
       "[Text(0.5, 1.0, 'Figure 5 - income')]"
      ]
     },
     "execution_count": 85,
     "metadata": {},
     "output_type": "execute_result"
    },
    {
     "data": {
      "image/png": "[encoded data removed]",
      "text/plain": [
       "<Figure size 720x360 with 1 Axes>"
      ]
     },
     "metadata": {
      "needs_background": "light"
     },
     "output_type": "display_data"
    }
   ],
   "source": [
    "fig = plt.figure(figsize=(10,5))\n",
    "sns.countplot(data=df, x='income').set(title='Figure 5 - income')"
   ]
  },
  {
   "cell_type": "markdown",
   "metadata": {
    "id": "nRmzyfrVMsag"
   },
   "source": [
    "## Bivariate Analysis"
   ]
  },
  {
   "cell_type": "code",
   "execution_count": 86,
   "metadata": {
    "colab": {
     "base_uri": "https://localhost:8080/"
    },
    "id": "-oPD7XH3IzD1",
    "outputId": "1311b593-ba6b-47ea-fba6-bcb1d03bf1ed"
   },
   "outputs": [
    {
     "name": "stdout",
     "output_type": "stream",
     "text": [
      "['workclass', 'marital-status', 'occupation', 'race', 'sex']\n",
      "['age', 'education-num', 'hours-per-week', 'age_bins']\n"
     ]
    }
   ],
   "source": [
    "# separate category vs numeric features for later use \n",
    "cat_features=list()\n",
    "num_features=list()\n",
    "for features in df.columns:\n",
    "    if df[features].dtypes==object:\n",
    "        cat_features.append(features)\n",
    "    else: num_features.append(features)\n",
    "cat_features.remove('income')\n",
    "print(cat_features)\n",
    "print(num_features)"
   ]
  },
  {
   "cell_type": "markdown",
   "metadata": {
    "id": "_v94wyvCTrx-"
   },
   "source": [
    "**The answer to the sub-questions:**\n",
    "\n",
    "**1. Which *workclass* is getting the highest income?**\n",
    "\n",
    "55.41% of the population who are working at *self-emp-inc* are earning greater than 50K, followed by *Federal-gov*. Thus, *self-emp-inc* is getting the highest income. (Figure 6)\n",
    "\n",
    "**2. Does marital status affect the income of an individual?**\n",
    "\n",
    "Marital status has effect on individual's income. Individuals who are *Married-civ-spouse* (45.42%) and *Married-AF-spouse* (43.75%) are more likely to earn more than 50K comparing to individuals without a partner. (Figure 7)\n",
    "\n",
    "**3. Which gender has better chance to get income greater than 50K?**\n",
    "Male has better chance to get income greater than 50K than female. 31.24% of the male population are earning more than 50K, while only 11.35% of the female population are getting income greater than 50K.\n",
    "\n",
    "**4. What is the relationship between income of an individual and age?**\n",
    "Graph (Figure 9) visually depicts the disparity in income group between the age bins created with likelihood of making greater than 50K highest between 40-60. \n",
    "\n",
    "**5. What combination of education and gender gives high income?**\n",
    "Higher level of education correlated to higher ratio of individuals making greater than 50K."
   ]
  },
  {
   "cell_type": "code",
   "execution_count": 87,
   "metadata": {
    "colab": {
     "base_uri": "https://localhost:8080/",
     "height": 1000
    },
    "id": "wwa_ijXgMsah",
    "outputId": "7db06c15-ae7e-4269-d1ac-007b8b26f196"
   },
   "outputs": [
    {
     "name": "stdout",
     "output_type": "stream",
     "text": [
      "                   >50K  Total      rate\n",
      "workclass                               \n",
      " Federal-gov        549   1406  0.390469\n",
      " Local-gov          915   3100  0.295161\n",
      " Private           7251  33307  0.217702\n",
      " Self-emp-inc       912   1646  0.554070\n",
      " Self-emp-not-inc  1059   3796  0.278978\n",
      " State-gov          520   1946  0.267215\n",
      " Without-pay          2     21  0.095238\n",
      "                        >50K  Total      rate\n",
      "marital-status                               \n",
      " Divorced                655   6297  0.104018\n",
      " Married-AF-spouse        14     32  0.437500\n",
      " Married-civ-spouse     9564  21055  0.454239\n",
      " Married-spouse-absent    54    552  0.097826\n",
      " Never-married           701  14598  0.048020\n",
      " Separated                99   1411  0.070163\n",
      " Widowed                 121   1277  0.094753\n",
      "                    >50K  Total      rate\n",
      "occupation                               \n",
      " Adm-clerical        756   5540  0.136462\n",
      " Armed-Forces          4     14  0.285714\n",
      " Craft-repair       1355   6020  0.225083\n",
      " Exec-managerial    2867   5984  0.479111\n",
      " Farming-fishing     172   1480  0.116216\n",
      " Handlers-cleaners   135   2046  0.065982\n",
      " Machine-op-inspct   365   2970  0.122896\n",
      " Other-service       196   4808  0.040765\n",
      " Priv-house-serv       3    232  0.012931\n",
      " Prof-specialty     2704   6008  0.450067\n",
      " Protective-serv     307    976  0.314549\n",
      " Sales              1455   5408  0.269046\n",
      " Tech-support        411   1420  0.289437\n",
      " Transport-moving    478   2316  0.206390\n",
      "                      >50K  Total      rate\n",
      "race                                       \n",
      " Amer-Indian-Eskimo     53    435  0.121839\n",
      " Asian-Pac-Islander    369   1303  0.283193\n",
      " Black                 534   4228  0.126301\n",
      " Other                  45    353  0.127479\n",
      " White               10207  38903  0.262371\n",
      "         >50K  Total      rate\n",
      "sex                           \n",
      " Female  1669  14695  0.113576\n",
      " Male    9539  30527  0.312477\n"
     ]
    },
    {
     "data": {
      "image/png": "[encoded data removed]",
      "text/plain": [
       "<Figure size 576x360 with 1 Axes>"
      ]
     },
     "metadata": {
      "needs_background": "light"
     },
     "output_type": "display_data"
    },
    {
     "data": {
      "image/png": "[encoded data removed]",
      "text/plain": [
       "<Figure size 576x360 with 1 Axes>"
      ]
     },
     "metadata": {
      "needs_background": "light"
     },
     "output_type": "display_data"
    },
    {
     "data": {
      "image/png": "[encoded data removed]",
      "text/plain": [
       "<Figure size 576x360 with 1 Axes>"
      ]
     },
     "metadata": {
      "needs_background": "light"
     },
     "output_type": "display_data"
    },
    {
     "data": {
      "image/png": "[encoded data removed]",
      "text/plain": [
       "<Figure size 576x360 with 1 Axes>"
      ]
     },
     "metadata": {
      "needs_background": "light"
     },
     "output_type": "display_data"
    },
    {
     "data": {
      "image/png": "[encoded data removed]",
      "text/plain": [
       "<Figure size 576x360 with 1 Axes>"
      ]
     },
     "metadata": {
      "needs_background": "light"
     },
     "output_type": "display_data"
    }
   ],
   "source": [
    "# plot percentage of population with income>50K across all categorical features\n",
    "for cat in cat_features:\n",
    "    df1=df[df['income']==' >50K'].groupby(cat)['income'].count()\n",
    "    df2=df.groupby(cat)['income'].count()\n",
    "    df3=pd.concat([df1.rename('>50K'),df2.rename('Total')],axis=1)\n",
    "    df3['rate']=df3['>50K']/df3['Total']\n",
    "    plt.figure(figsize=(8,5)) # Emily: made size consistent\n",
    "    sns.barplot(x=df3.index, y=df3['rate'], data=df3)\n",
    "    plt.xticks(rotation=90)\n",
    "    plt.tight_layout()\n",
    "\n",
    "    index = cat_features.index(cat) + 10\n",
    "    plt.title(\"Figure \" + str(index) + \" - Ratio of sample based on \" + str(cat) + \" with income >50k\")\n",
    "\n",
    "    print(df3)"
   ]
  },
  {
   "cell_type": "code",
   "execution_count": 88,
   "metadata": {
    "colab": {
     "base_uri": "https://localhost:8080/",
     "height": 654
    },
    "id": "r1vIZcYTWfvL",
    "outputId": "a4be5e25-c317-400f-e2b0-e745a9329fd9"
   },
   "outputs": [
    {
     "name": "stdout",
     "output_type": "stream",
     "text": [
      "                >50K  Total      rate\n",
      "hours-per-week                       \n",
      "1                2.0     12  0.166667\n",
      "2                3.0     24  0.125000\n",
      "3                2.0     35  0.057143\n",
      "4                5.0     47  0.106383\n",
      "5                8.0     60  0.133333\n",
      "...              ...    ...       ...\n",
      "82               NaN      1       NaN\n",
      "87               NaN      1       NaN\n",
      "88               NaN      4       NaN\n",
      "91               NaN      3       NaN\n",
      "94               NaN      1       NaN\n",
      "\n",
      "[96 rows x 3 columns]\n"
     ]
    },
    {
     "data": {
      "image/png": "[encoded data removed]",
      "text/plain": [
       "<Figure size 720x360 with 1 Axes>"
      ]
     },
     "metadata": {
      "needs_background": "light"
     },
     "output_type": "display_data"
    }
   ],
   "source": [
    "# plot percentage of population with income>50K - hours worked\n",
    "\n",
    "num = 'hours-per-week'\n",
    "\n",
    "df1=df[df['income']==' >50K'].groupby(num)['income'].count()\n",
    "df2=df.groupby(num)['income'].count()\n",
    "df3=pd.concat([df1.rename('>50K'),df2.rename('Total')],axis=1)\n",
    "df3['rate']=df3['>50K']/df3['Total']\n",
    "plt.figure(figsize=(10,5))\n",
    "sns.barplot(x=df3.index, y=df3['rate'], data=df3)\n",
    "plt.xticks(rotation=90)\n",
    "plt.tight_layout()\n",
    "\n",
    "plt.title(\"Figure 14 Ratio of sample based on \"+str(num)+\" with income >50k\")\n",
    "\n",
    "print(df3)"
   ]
  },
  {
   "cell_type": "code",
   "execution_count": 89,
   "metadata": {
    "colab": {
     "base_uri": "https://localhost:8080/",
     "height": 541
    },
    "id": "q0AYWvicI3RK",
    "outputId": "35e72ceb-0b2d-47d0-f09c-0c97894ce933"
   },
   "outputs": [
    {
     "name": "stdout",
     "output_type": "stream",
     "text": [
      "          >50K  Total      rate\n",
      "age_bins                       \n",
      "(10, 20]     3   2968  0.001011\n",
      "(20, 30]   961  11292  0.085104\n",
      "(30, 40]  3506  12291  0.285249\n",
      "(40, 50]  3859   9990  0.386286\n",
      "(50, 60]  2169   5833  0.371850\n",
      "(60, 70]   584   2212  0.264014\n",
      "(70, 80]   103    522  0.197318\n"
     ]
    },
    {
     "data": {
      "image/png": "[encoded data removed]",
      "text/plain": [
       "<Figure size 720x360 with 1 Axes>"
      ]
     },
     "metadata": {
      "needs_background": "light"
     },
     "output_type": "display_data"
    }
   ],
   "source": [
    "# plot percentage of population with income>50K - age_bins\n",
    "\n",
    "num = 'age_bins'\n",
    "\n",
    "df1=df[df['income']==' >50K'].groupby(num)['income'].count()\n",
    "df2=df.groupby(num)['income'].count()\n",
    "df3=pd.concat([df1.rename('>50K'),df2.rename('Total')],axis=1)\n",
    "df3['rate']=df3['>50K']/df3['Total']\n",
    "plt.figure(figsize=(10,5))\n",
    "sns.barplot(x=df3.index, y=df3['rate'], data=df3)\n",
    "plt.xticks(rotation=90)\n",
    "plt.tight_layout()\n",
    "\n",
    "plt.title(\"Figure 9 - Ratio of sample based on \" + str(num) + \" with income >50k\")\n",
    "\n",
    "print(df3)"
   ]
  },
  {
   "cell_type": "code",
   "execution_count": 90,
   "metadata": {
    "colab": {
     "base_uri": "https://localhost:8080/",
     "height": 697
    },
    "id": "kZsWR_WRLlAh",
    "outputId": "8941a453-5800-4269-d4f3-83ed65dce33d"
   },
   "outputs": [
    {
     "name": "stdout",
     "output_type": "stream",
     "text": [
      "               >50K  Total      rate\n",
      "education-num                       \n",
      "1                 1     72  0.013889\n",
      "2                 8    222  0.036036\n",
      "3                22    449  0.048998\n",
      "4                55    823  0.066829\n",
      "5                38    676  0.056213\n",
      "6                82   1223  0.067048\n",
      "7                89   1619  0.054972\n",
      "8                43    577  0.074523\n",
      "9              2416  14783  0.163431\n",
      "10             1990   9899  0.201030\n",
      "11              504   1959  0.257274\n",
      "12              398   1507  0.264101\n",
      "13             3178   7570  0.419815\n",
      "14             1393   2514  0.554097\n",
      "15              592    785  0.754140\n",
      "16              399    544  0.733456\n"
     ]
    },
    {
     "data": {
      "image/png": "[encoded data removed]",
      "text/plain": [
       "<Figure size 720x360 with 1 Axes>"
      ]
     },
     "metadata": {
      "needs_background": "light"
     },
     "output_type": "display_data"
    }
   ],
   "source": [
    "# plot percentage of population with income>50K - education-num\n",
    "\n",
    "num = 'education-num'\n",
    "\n",
    "df1=df[df['income']==' >50K'].groupby(num)['income'].count()\n",
    "df2=df.groupby(num)['income'].count()\n",
    "df3=pd.concat([df1.rename('>50K'),df2.rename('Total')],axis=1)\n",
    "df3['rate']=df3['>50K']/df3['Total']\n",
    "plt.figure(figsize=(10,5))\n",
    "sns.barplot(x=df3.index, y=df3['rate'], data=df3)\n",
    "plt.xticks(rotation=90)\n",
    "plt.tight_layout()\n",
    "\n",
    "plt.title(\"Figure 9 - Ratio of sample based on \" + str(num) + \" with income >50k\")\n",
    "\n",
    "print(df3)"
   ]
  },
  {
   "cell_type": "markdown",
   "metadata": {
    "id": "arUcbVwpMUnC"
   },
   "source": [
    "### Other:"
   ]
  },
  {
   "cell_type": "markdown",
   "metadata": {
    "id": "Sx8Zl_ESF8Rq"
   },
   "source": [
    "* Observations who started working at an earlier age tend to have weaker educational background.\n",
    "* Observations who are 20 to 60 years old are the main talent resource and labour force."
   ]
  },
  {
   "cell_type": "code",
   "execution_count": 91,
   "metadata": {
    "colab": {
     "base_uri": "https://localhost:8080/",
     "height": 300
    },
    "id": "Jyq8KNCSMsaj",
    "outputId": "f9a12093-d76d-4800-f0bc-989e67aaaf31"
   },
   "outputs": [
    {
     "data": {
      "text/html": [
       "<div>\n",
       "<style scoped>\n",
       "    .dataframe tbody tr th:only-of-type {\n",
       "        vertical-align: middle;\n",
       "    }\n",
       "\n",
       "    .dataframe tbody tr th {\n",
       "        vertical-align: top;\n",
       "    }\n",
       "\n",
       "    .dataframe thead th {\n",
       "        text-align: right;\n",
       "    }\n",
       "</style>\n",
       "<table border=\"1\" class=\"dataframe\">\n",
       "  <thead>\n",
       "    <tr style=\"text-align: right;\">\n",
       "      <th></th>\n",
       "      <th>education-num</th>\n",
       "      <th>hours-per-week</th>\n",
       "    </tr>\n",
       "    <tr>\n",
       "      <th>age_bins</th>\n",
       "      <th></th>\n",
       "      <th></th>\n",
       "    </tr>\n",
       "  </thead>\n",
       "  <tbody>\n",
       "    <tr>\n",
       "      <th>(10, 20]</th>\n",
       "      <td>8.520553</td>\n",
       "      <td>28.096024</td>\n",
       "    </tr>\n",
       "    <tr>\n",
       "      <th>(20, 30]</th>\n",
       "      <td>10.119288</td>\n",
       "      <td>39.727418</td>\n",
       "    </tr>\n",
       "    <tr>\n",
       "      <th>(30, 40]</th>\n",
       "      <td>10.344317</td>\n",
       "      <td>43.485803</td>\n",
       "    </tr>\n",
       "    <tr>\n",
       "      <th>(40, 50]</th>\n",
       "      <td>10.589489</td>\n",
       "      <td>43.658158</td>\n",
       "    </tr>\n",
       "    <tr>\n",
       "      <th>(50, 60]</th>\n",
       "      <td>9.949254</td>\n",
       "      <td>42.749186</td>\n",
       "    </tr>\n",
       "    <tr>\n",
       "      <th>(60, 70]</th>\n",
       "      <td>9.602622</td>\n",
       "      <td>36.563291</td>\n",
       "    </tr>\n",
       "    <tr>\n",
       "      <th>(70, 80]</th>\n",
       "      <td>9.084291</td>\n",
       "      <td>28.275862</td>\n",
       "    </tr>\n",
       "  </tbody>\n",
       "</table>\n",
       "</div>"
      ],
      "text/plain": [
       "          education-num  hours-per-week\n",
       "age_bins                               \n",
       "(10, 20]       8.520553       28.096024\n",
       "(20, 30]      10.119288       39.727418\n",
       "(30, 40]      10.344317       43.485803\n",
       "(40, 50]      10.589489       43.658158\n",
       "(50, 60]       9.949254       42.749186\n",
       "(60, 70]       9.602622       36.563291\n",
       "(70, 80]       9.084291       28.275862"
      ]
     },
     "execution_count": 91,
     "metadata": {},
     "output_type": "execute_result"
    }
   ],
   "source": [
    "# shows us the age, along with mean for education and how many hours they work per week.\n",
    "pd.pivot_table(df, index = 'age_bins', values = ['education-num','hours-per-week'])"
   ]
  },
  {
   "cell_type": "markdown",
   "metadata": {
    "id": "9o2-vGlXMsaj"
   },
   "source": [
    "The average age for people earning over 50K is higher than people earning less than 50K. We can also see that people earning over 50K went to school for longer and work more hours per week."
   ]
  },
  {
   "cell_type": "markdown",
   "metadata": {
    "id": "GnokfIP8Mxyi"
   },
   "source": [
    "## Model"
   ]
  },
  {
   "cell_type": "code",
   "execution_count": 92,
   "metadata": {
    "colab": {
     "background_save": true
    },
    "id": "6Q4GrE16Mxyi",
    "outputId": "6967a2fb-51f3-4e7d-f5d6-0d3d1e48aed3"
   },
   "outputs": [
    {
     "data": {
      "text/plain": [
       "<matplotlib.collections.PathCollection at 0x18dbf8cecd0>"
      ]
     },
     "execution_count": 92,
     "metadata": {},
     "output_type": "execute_result"
    },
    {
     "data": {
      "image/png": "[encoded data removed]",
      "text/plain": [
       "<Figure size 432x288 with 1 Axes>"
      ]
     },
     "metadata": {
      "needs_background": "light"
     },
     "output_type": "display_data"
    }
   ],
   "source": [
    "#feature selection\n",
    "cat_features_shortlisted=[\"marital-status\",'workclass','sex']\n",
    "num_features_shortlisted=['age',\"education-num\", \"hours-per-week\"]\n",
    "\n",
    "#feature preparation before final transformation\n",
    "df.loc[(df['workclass'].str.startswith(' Self')),'workclass']=' Self-Employeed'\n",
    "df.loc[(df['workclass'].str.endswith('-gov')),'workclass']=' Government'\n",
    "df.loc[(df[\"marital-status\"].str.startswith(' Married')),\"marital-status\"]=' Married'\n",
    "df.loc[(df[\"marital-status\"].isin([' Divorced',' Widowed',' Separated'])),\"marital-status\"]=' Other'\n",
    "\n",
    "#feature transformation\n",
    "categorical_transformer = OneHotEncoder(handle_unknown=\"ignore\")\n",
    "numeric_transformer = StandardScaler()\n",
    "ct = ColumnTransformer([(\"cat\",categorical_transformer,cat_features_shortlisted),(\"num\", numeric_transformer, num_features_shortlisted)],remainder=\"passthrough\")\n",
    "X= df[cat_features_shortlisted+num_features_shortlisted]\n",
    "X_trans = ct.fit_transform(X)\n",
    "Y_trans = df['income'].replace(['<=50K', '>50K'], [0, 1], regex=True)\n",
    "\n",
    "#train KNN model and tuning n_neighbors for the best average accuracy scores\n",
    "avg_score_pred=list()\n",
    "kvalue = [1, 3, 5, 7, 10, 20, 30, 40, 50]\n",
    "for k in kvalue:\n",
    "    neigh = KNeighborsClassifier(n_neighbors=k) \n",
    "    score=list()\n",
    "    for i in range(10): # generate 10 random train/test splits\n",
    "        X_train, X_test, Y_train, Y_test = train_test_split(X_trans, Y_trans, test_size=0.30,random_state=i)\n",
    "        neigh.fit(X_train, Y_train)\n",
    "        score.append(neigh.score(X_test, Y_test))\n",
    "    avg_score_pred.append(sum(score)/len(score))    \n",
    "plt.scatter(kvalue, avg_score_pred)"
   ]
  },
  {
   "cell_type": "markdown",
   "metadata": {
    "id": "vr4GwtJqZ71I"
   },
   "source": [
    "KNN classifier has highest accuracy rate when n_neighbors = 50"
   ]
  },
  {
   "cell_type": "code",
   "execution_count": 93,
   "metadata": {
    "colab": {
     "background_save": true
    },
    "id": "RQxumAVWh2si",
    "outputId": "15a7ce85-8d54-435f-dbe0-254c85287d01"
   },
   "outputs": [
    {
     "name": "stdout",
     "output_type": "stream",
     "text": [
      "0.7245180038856789 0.8209773715633524\n"
     ]
    }
   ],
   "source": [
    "auc_score=roc_auc_score(Y_test, neigh.predict(X_test))\n",
    "print(auc_score, avg_score_pred[-1])"
   ]
  },
  {
   "cell_type": "code",
   "execution_count": 94,
   "metadata": {
    "colab": {
     "background_save": true
    },
    "id": "VlxE3Ue0AkAR",
    "outputId": "1c7d7ab1-470b-4154-d1eb-8abde7397569"
   },
   "outputs": [
    {
     "name": "stdout",
     "output_type": "stream",
     "text": [
      "0.7245180038856789 0.8209773715633524\n"
     ]
    }
   ],
   "source": [
    "auc_score=roc_auc_score(Y_test, neigh.predict(X_test))\n",
    "print(auc_score, max(avg_score_pred))"
   ]
  },
  {
   "cell_type": "code",
   "execution_count": 95,
   "metadata": {
    "colab": {
     "background_save": true
    },
    "id": "lqYcPjjiLzoH",
    "outputId": "1c05f098-0570-4c50-c61c-f071d1a0bfe8"
   },
   "outputs": [
    {
     "name": "stdout",
     "output_type": "stream",
     "text": [
      "0.7076298657022024\n"
     ]
    }
   ],
   "source": [
    "#train logistic regression model and scores\n",
    "X_train, X_test, Y_train, Y_test = train_test_split(X_trans, Y_trans, test_size=0.30,random_state=42)\n",
    "clf = LogisticRegressionCV(cv=5).fit(X_train, Y_train)\n",
    "clf.score(X_test, Y_test)\n",
    "fpr, tpr, thresholds = roc_curve(Y_test, clf.predict(X_test))\n",
    "roc_auc = auc(fpr, tpr)\n",
    "auc_score=roc_auc_score(Y_test, clf.predict(X_test))\n",
    "print(auc_score)"
   ]
  },
  {
   "cell_type": "code",
   "execution_count": 1,
   "metadata": {},
   "outputs": [],
   "source": [
    "from sklearn.metrics import confusion_matrix\n",
    "from sklearn.linear_model import LogisticRegression\n",
    "from sklearn import metrics\n",
    "#y_pred=logreg.predict(X_test)\n",
    "#confusion_matrix = confusion_matrix(Y_test, y_pred)\n",
    "#print(confusion_matrix)"
   ]
  },
  {
   "cell_type": "code",
   "execution_count": null,
   "metadata": {},
   "outputs": [],
   "source": []
  }
 ],
 "metadata": {
  "colab": {
   "collapsed_sections": [
    "LKVHEJ2nZ2Ms"
   ],
   "provenance": []
  },
  "kernelspec": {
   "display_name": "Python 3 (ipykernel)",
   "language": "python",
   "name": "python3"
  },
  "language_info": {
   "codemirror_mode": {
    "name": "ipython",
    "version": 3
   },
   "file_extension": ".py",
   "mimetype": "text/x-python",
   "name": "python",
   "nbconvert_exporter": "python",
   "pygments_lexer": "ipython3",
   "version": "3.9.12"
  }
 },
 "nbformat": 4,
 "nbformat_minor": 1
}
